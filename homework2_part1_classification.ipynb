{
  "cells": [
    {
      "cell_type": "code",
      "execution_count": 1,
      "metadata": {
        "id": "5fjJ2MBwG1yT"
      },
      "outputs": [],
      "source": [
        "import numpy as np\n",
        "import matplotlib.pyplot as plt\n",
        "%matplotlib inline"
      ]
    },
    {
      "cell_type": "markdown",
      "metadata": {
        "id": "4tqywD89G1yU"
      },
      "source": [
        "### Homework part I: Prohibited Comment Classification (3 points)\n",
        "\n",
        "![img](https://github.com/yandexdataschool/nlp_course/raw/master/resources/banhammer.jpg)\n",
        "\n",
        "__In this notebook__ you will build an algorithm that classifies social media comments into normal or toxic.\n",
        "Like in many real-world cases, you only have a small (10^3) dataset of hand-labeled examples to work with. We'll tackle this problem using both classical nlp methods and embedding-based approach."
      ]
    },
    {
      "cell_type": "code",
      "execution_count": 2,
      "metadata": {
        "colab": {
          "base_uri": "https://localhost:8080/",
          "height": 206
        },
        "id": "s140C6QrG1yV",
        "outputId": "399e1a36-a9fe-4c6b-fdc7-71621a44b642"
      },
      "outputs": [
        {
          "output_type": "execute_result",
          "data": {
            "text/plain": [
              "     should_ban                                       comment_text\n",
              "50            0  \"Those who're in advantageous positions are th...\n",
              "250           1          Fartsalot56 says f**k you motherclucker!!\n",
              "450           1  Are you a fool? \\n\\nI am sorry, but you seem t...\n",
              "650           1    I AM NOT A VANDAL!!!!!!!!!!!!!!!!!!!!!!!!!!!!!!\n",
              "850           0  Citing sources\\n\\nCheck out the Wikipedia:Citi..."
            ],
            "text/html": [
              "\n",
              "  <div id=\"df-662db7a8-f9d4-45ac-bde6-7d80dea29e22\" class=\"colab-df-container\">\n",
              "    <div>\n",
              "<style scoped>\n",
              "    .dataframe tbody tr th:only-of-type {\n",
              "        vertical-align: middle;\n",
              "    }\n",
              "\n",
              "    .dataframe tbody tr th {\n",
              "        vertical-align: top;\n",
              "    }\n",
              "\n",
              "    .dataframe thead th {\n",
              "        text-align: right;\n",
              "    }\n",
              "</style>\n",
              "<table border=\"1\" class=\"dataframe\">\n",
              "  <thead>\n",
              "    <tr style=\"text-align: right;\">\n",
              "      <th></th>\n",
              "      <th>should_ban</th>\n",
              "      <th>comment_text</th>\n",
              "    </tr>\n",
              "  </thead>\n",
              "  <tbody>\n",
              "    <tr>\n",
              "      <th>50</th>\n",
              "      <td>0</td>\n",
              "      <td>\"Those who're in advantageous positions are th...</td>\n",
              "    </tr>\n",
              "    <tr>\n",
              "      <th>250</th>\n",
              "      <td>1</td>\n",
              "      <td>Fartsalot56 says f**k you motherclucker!!</td>\n",
              "    </tr>\n",
              "    <tr>\n",
              "      <th>450</th>\n",
              "      <td>1</td>\n",
              "      <td>Are you a fool? \\n\\nI am sorry, but you seem t...</td>\n",
              "    </tr>\n",
              "    <tr>\n",
              "      <th>650</th>\n",
              "      <td>1</td>\n",
              "      <td>I AM NOT A VANDAL!!!!!!!!!!!!!!!!!!!!!!!!!!!!!!</td>\n",
              "    </tr>\n",
              "    <tr>\n",
              "      <th>850</th>\n",
              "      <td>0</td>\n",
              "      <td>Citing sources\\n\\nCheck out the Wikipedia:Citi...</td>\n",
              "    </tr>\n",
              "  </tbody>\n",
              "</table>\n",
              "</div>\n",
              "    <div class=\"colab-df-buttons\">\n",
              "\n",
              "  <div class=\"colab-df-container\">\n",
              "    <button class=\"colab-df-convert\" onclick=\"convertToInteractive('df-662db7a8-f9d4-45ac-bde6-7d80dea29e22')\"\n",
              "            title=\"Convert this dataframe to an interactive table.\"\n",
              "            style=\"display:none;\">\n",
              "\n",
              "  <svg xmlns=\"http://www.w3.org/2000/svg\" height=\"24px\" viewBox=\"0 -960 960 960\">\n",
              "    <path d=\"M120-120v-720h720v720H120Zm60-500h600v-160H180v160Zm220 220h160v-160H400v160Zm0 220h160v-160H400v160ZM180-400h160v-160H180v160Zm440 0h160v-160H620v160ZM180-180h160v-160H180v160Zm440 0h160v-160H620v160Z\"/>\n",
              "  </svg>\n",
              "    </button>\n",
              "\n",
              "  <style>\n",
              "    .colab-df-container {\n",
              "      display:flex;\n",
              "      gap: 12px;\n",
              "    }\n",
              "\n",
              "    .colab-df-convert {\n",
              "      background-color: #E8F0FE;\n",
              "      border: none;\n",
              "      border-radius: 50%;\n",
              "      cursor: pointer;\n",
              "      display: none;\n",
              "      fill: #1967D2;\n",
              "      height: 32px;\n",
              "      padding: 0 0 0 0;\n",
              "      width: 32px;\n",
              "    }\n",
              "\n",
              "    .colab-df-convert:hover {\n",
              "      background-color: #E2EBFA;\n",
              "      box-shadow: 0px 1px 2px rgba(60, 64, 67, 0.3), 0px 1px 3px 1px rgba(60, 64, 67, 0.15);\n",
              "      fill: #174EA6;\n",
              "    }\n",
              "\n",
              "    .colab-df-buttons div {\n",
              "      margin-bottom: 4px;\n",
              "    }\n",
              "\n",
              "    [theme=dark] .colab-df-convert {\n",
              "      background-color: #3B4455;\n",
              "      fill: #D2E3FC;\n",
              "    }\n",
              "\n",
              "    [theme=dark] .colab-df-convert:hover {\n",
              "      background-color: #434B5C;\n",
              "      box-shadow: 0px 1px 3px 1px rgba(0, 0, 0, 0.15);\n",
              "      filter: drop-shadow(0px 1px 2px rgba(0, 0, 0, 0.3));\n",
              "      fill: #FFFFFF;\n",
              "    }\n",
              "  </style>\n",
              "\n",
              "    <script>\n",
              "      const buttonEl =\n",
              "        document.querySelector('#df-662db7a8-f9d4-45ac-bde6-7d80dea29e22 button.colab-df-convert');\n",
              "      buttonEl.style.display =\n",
              "        google.colab.kernel.accessAllowed ? 'block' : 'none';\n",
              "\n",
              "      async function convertToInteractive(key) {\n",
              "        const element = document.querySelector('#df-662db7a8-f9d4-45ac-bde6-7d80dea29e22');\n",
              "        const dataTable =\n",
              "          await google.colab.kernel.invokeFunction('convertToInteractive',\n",
              "                                                    [key], {});\n",
              "        if (!dataTable) return;\n",
              "\n",
              "        const docLinkHtml = 'Like what you see? Visit the ' +\n",
              "          '<a target=\"_blank\" href=https://colab.research.google.com/notebooks/data_table.ipynb>data table notebook</a>'\n",
              "          + ' to learn more about interactive tables.';\n",
              "        element.innerHTML = '';\n",
              "        dataTable['output_type'] = 'display_data';\n",
              "        await google.colab.output.renderOutput(dataTable, element);\n",
              "        const docLink = document.createElement('div');\n",
              "        docLink.innerHTML = docLinkHtml;\n",
              "        element.appendChild(docLink);\n",
              "      }\n",
              "    </script>\n",
              "  </div>\n",
              "\n",
              "\n",
              "<div id=\"df-46a66e0e-f342-462f-8288-ead53cd03f91\">\n",
              "  <button class=\"colab-df-quickchart\" onclick=\"quickchart('df-46a66e0e-f342-462f-8288-ead53cd03f91')\"\n",
              "            title=\"Suggest charts\"\n",
              "            style=\"display:none;\">\n",
              "\n",
              "<svg xmlns=\"http://www.w3.org/2000/svg\" height=\"24px\"viewBox=\"0 0 24 24\"\n",
              "     width=\"24px\">\n",
              "    <g>\n",
              "        <path d=\"M19 3H5c-1.1 0-2 .9-2 2v14c0 1.1.9 2 2 2h14c1.1 0 2-.9 2-2V5c0-1.1-.9-2-2-2zM9 17H7v-7h2v7zm4 0h-2V7h2v10zm4 0h-2v-4h2v4z\"/>\n",
              "    </g>\n",
              "</svg>\n",
              "  </button>\n",
              "\n",
              "<style>\n",
              "  .colab-df-quickchart {\n",
              "      --bg-color: #E8F0FE;\n",
              "      --fill-color: #1967D2;\n",
              "      --hover-bg-color: #E2EBFA;\n",
              "      --hover-fill-color: #174EA6;\n",
              "      --disabled-fill-color: #AAA;\n",
              "      --disabled-bg-color: #DDD;\n",
              "  }\n",
              "\n",
              "  [theme=dark] .colab-df-quickchart {\n",
              "      --bg-color: #3B4455;\n",
              "      --fill-color: #D2E3FC;\n",
              "      --hover-bg-color: #434B5C;\n",
              "      --hover-fill-color: #FFFFFF;\n",
              "      --disabled-bg-color: #3B4455;\n",
              "      --disabled-fill-color: #666;\n",
              "  }\n",
              "\n",
              "  .colab-df-quickchart {\n",
              "    background-color: var(--bg-color);\n",
              "    border: none;\n",
              "    border-radius: 50%;\n",
              "    cursor: pointer;\n",
              "    display: none;\n",
              "    fill: var(--fill-color);\n",
              "    height: 32px;\n",
              "    padding: 0;\n",
              "    width: 32px;\n",
              "  }\n",
              "\n",
              "  .colab-df-quickchart:hover {\n",
              "    background-color: var(--hover-bg-color);\n",
              "    box-shadow: 0 1px 2px rgba(60, 64, 67, 0.3), 0 1px 3px 1px rgba(60, 64, 67, 0.15);\n",
              "    fill: var(--button-hover-fill-color);\n",
              "  }\n",
              "\n",
              "  .colab-df-quickchart-complete:disabled,\n",
              "  .colab-df-quickchart-complete:disabled:hover {\n",
              "    background-color: var(--disabled-bg-color);\n",
              "    fill: var(--disabled-fill-color);\n",
              "    box-shadow: none;\n",
              "  }\n",
              "\n",
              "  .colab-df-spinner {\n",
              "    border: 2px solid var(--fill-color);\n",
              "    border-color: transparent;\n",
              "    border-bottom-color: var(--fill-color);\n",
              "    animation:\n",
              "      spin 1s steps(1) infinite;\n",
              "  }\n",
              "\n",
              "  @keyframes spin {\n",
              "    0% {\n",
              "      border-color: transparent;\n",
              "      border-bottom-color: var(--fill-color);\n",
              "      border-left-color: var(--fill-color);\n",
              "    }\n",
              "    20% {\n",
              "      border-color: transparent;\n",
              "      border-left-color: var(--fill-color);\n",
              "      border-top-color: var(--fill-color);\n",
              "    }\n",
              "    30% {\n",
              "      border-color: transparent;\n",
              "      border-left-color: var(--fill-color);\n",
              "      border-top-color: var(--fill-color);\n",
              "      border-right-color: var(--fill-color);\n",
              "    }\n",
              "    40% {\n",
              "      border-color: transparent;\n",
              "      border-right-color: var(--fill-color);\n",
              "      border-top-color: var(--fill-color);\n",
              "    }\n",
              "    60% {\n",
              "      border-color: transparent;\n",
              "      border-right-color: var(--fill-color);\n",
              "    }\n",
              "    80% {\n",
              "      border-color: transparent;\n",
              "      border-right-color: var(--fill-color);\n",
              "      border-bottom-color: var(--fill-color);\n",
              "    }\n",
              "    90% {\n",
              "      border-color: transparent;\n",
              "      border-bottom-color: var(--fill-color);\n",
              "    }\n",
              "  }\n",
              "</style>\n",
              "\n",
              "  <script>\n",
              "    async function quickchart(key) {\n",
              "      const quickchartButtonEl =\n",
              "        document.querySelector('#' + key + ' button');\n",
              "      quickchartButtonEl.disabled = true;  // To prevent multiple clicks.\n",
              "      quickchartButtonEl.classList.add('colab-df-spinner');\n",
              "      try {\n",
              "        const charts = await google.colab.kernel.invokeFunction(\n",
              "            'suggestCharts', [key], {});\n",
              "      } catch (error) {\n",
              "        console.error('Error during call to suggestCharts:', error);\n",
              "      }\n",
              "      quickchartButtonEl.classList.remove('colab-df-spinner');\n",
              "      quickchartButtonEl.classList.add('colab-df-quickchart-complete');\n",
              "    }\n",
              "    (() => {\n",
              "      let quickchartButtonEl =\n",
              "        document.querySelector('#df-46a66e0e-f342-462f-8288-ead53cd03f91 button');\n",
              "      quickchartButtonEl.style.display =\n",
              "        google.colab.kernel.accessAllowed ? 'block' : 'none';\n",
              "    })();\n",
              "  </script>\n",
              "</div>\n",
              "    </div>\n",
              "  </div>\n"
            ]
          },
          "metadata": {},
          "execution_count": 2
        }
      ],
      "source": [
        "import pandas as pd\n",
        "data = pd.read_csv(\"comments.tsv\", sep='\\t')\n",
        "\n",
        "texts = data['comment_text'].values\n",
        "target = data['should_ban'].values\n",
        "data[50::200]"
      ]
    },
    {
      "cell_type": "code",
      "execution_count": 3,
      "metadata": {
        "id": "UG5TlL44G1yV"
      },
      "outputs": [],
      "source": [
        "from sklearn.model_selection import train_test_split\n",
        "texts_train, texts_test, y_train, y_test = train_test_split(texts, target, test_size=0.5, random_state=42)"
      ]
    },
    {
      "cell_type": "markdown",
      "metadata": {
        "id": "ncrFljb9G1yV"
      },
      "source": [
        "__Note:__ it is generally a good idea to split data into train/test before anything is done to them.\n",
        "\n",
        "It guards you against possible data leakage in the preprocessing stage. For example, should you decide to select words present in obscene tweets as features, you should only count those words over the training set. Otherwise your algoritm can cheat evaluation."
      ]
    },
    {
      "cell_type": "markdown",
      "metadata": {
        "id": "17vL9qhOG1yW"
      },
      "source": [
        "### Preprocessing and tokenization\n",
        "\n",
        "Comments contain raw text with punctuation, upper/lowercase letters and even newline symbols.\n",
        "\n",
        "To simplify all further steps, we'll split text into space-separated tokens using one of nltk tokenizers."
      ]
    },
    {
      "cell_type": "code",
      "execution_count": 4,
      "metadata": {
        "colab": {
          "base_uri": "https://localhost:8080/"
        },
        "id": "l1j2BDtnG1yW",
        "outputId": "4d3778ea-f42b-4463-b04d-10c4f51d0257"
      },
      "outputs": [
        {
          "output_type": "stream",
          "name": "stdout",
          "text": [
            "before: How to be a grown-up at work: replace \"fuck you\" with \"Ok, great!\".\n",
            "after: how to be a grown-up at work : replace \" fuck you \" with \" ok , great ! \" .\n"
          ]
        }
      ],
      "source": [
        "from nltk.tokenize import TweetTokenizer\n",
        "tokenizer = TweetTokenizer()\n",
        "preprocess = lambda text: ' '.join(tokenizer.tokenize(text.lower()))\n",
        "\n",
        "text = 'How to be a grown-up at work: replace \"fuck you\" with \"Ok, great!\".'\n",
        "print(\"before:\", text,)\n",
        "print(\"after:\", preprocess(text),)"
      ]
    },
    {
      "cell_type": "code",
      "execution_count": 5,
      "metadata": {
        "id": "mZntTkSrG1yW"
      },
      "outputs": [],
      "source": [
        "# task: preprocess each comment in train and test\n",
        "\n",
        "texts_train = [preprocess(i) for i in texts_train]\n",
        "texts_test = [preprocess(i) for i in texts_test]"
      ]
    },
    {
      "cell_type": "code",
      "execution_count": 6,
      "metadata": {
        "id": "8A4m2Q7bG1yW"
      },
      "outputs": [],
      "source": [
        "assert texts_train[5] ==  'who cares anymore . they attack with impunity .'\n",
        "assert texts_test[89] == 'hey todds ! quick q ? why are you so gay'\n",
        "assert len(texts_test) == len(y_test)"
      ]
    },
    {
      "cell_type": "markdown",
      "metadata": {
        "id": "2NS1Gvu4G1yW"
      },
      "source": [
        "### Solving it: bag of words\n",
        "\n",
        "![img](http://www.novuslight.com/uploads/n/BagofWords.jpg)\n",
        "\n",
        "One traditional approach to such problem is to use bag of words features:\n",
        "1. build a vocabulary of frequent words (use train data only)\n",
        "2. for each training sample, count the number of times a word occurs in it (for each word in vocabulary).\n",
        "3. consider this count a feature for some classifier\n",
        "\n",
        "__Note:__ in practice, you can compute such features using sklearn. Please don't do that in the current assignment, though.\n",
        "* `from sklearn.feature_extraction.text import CountVectorizer, TfidfVectorizer`"
      ]
    },
    {
      "cell_type": "code",
      "execution_count": 14,
      "metadata": {
        "colab": {
          "base_uri": "https://localhost:8080/"
        },
        "id": "dyCpchzNG1yW",
        "outputId": "4182e5e1-3523-45bb-9c70-a1ef96d5b667"
      },
      "outputs": [
        {
          "output_type": "stream",
          "name": "stdout",
          "text": [
            "example features: ['!', '12:20', '300', '_', 'adorned', 'alternative', 'archive', 'average', 'benkner', 'bout', 'came', 'chest', 'combined', 'consumers', 'cricket', 'decisions', 'dickheads', 'domestic', 'eductaion', 'essentially', 'faggot', 'firms', 'frustrated', 'goal', 'hanibal', 'hip-hop', 'identified', 'infoboxes', 'issue', 'kindergarten', 'lets', 'lot', \"mclaren's\", 'moderator', 'naturally', 'noticeable', 'opposing', 'pdf', 'plant', 'pretoria', 'punctuation', 'rebels', 'repetative', 'riadh', 'schulz', 'shes', 'slit', 'spoof', 'stupid', 't', 'theoretical', 'topic', 'uglyness', 'userspace', 'wanted', 'wikieditor', 'year', '←']\n"
          ]
        }
      ],
      "source": [
        "# task: find up to k most frequent tokens in texts_train,\n",
        "# sort them by number of occurences (highest first)\n",
        "k = 10000\n",
        "\n",
        "bow_vocabulary = dict()\n",
        "for i in texts_train:\n",
        "  for token in i.split():\n",
        "    if token in bow_vocabulary:\n",
        "      bow_vocabulary[token] += 1\n",
        "    else:\n",
        "      bow_vocabulary[token] = 1\n",
        "bow_vocabulary = sorted(bow_vocabulary)[:10000]\n",
        "print('example features:', sorted(bow_vocabulary)[::100])"
      ]
    },
    {
      "cell_type": "code",
      "execution_count": 18,
      "metadata": {
        "id": "SryQv2KEG1yX"
      },
      "outputs": [],
      "source": [
        "def text_to_bow(text):\n",
        "    \"\"\" convert text string to an array of token counts. Use bow_vocabulary. \"\"\"\n",
        "    arr = np.zeros(len(bow_vocabulary))\n",
        "\n",
        "    d = dict()\n",
        "    for i in text.split():\n",
        "      if i in d:\n",
        "        d[i] += 1\n",
        "      else:\n",
        "        d[i] = 1\n",
        "\n",
        "    for i in range(len(bow_vocabulary)):\n",
        "      if bow_vocabulary[i] in d:\n",
        "        arr[i] = d[bow_vocabulary[i]]\n",
        "\n",
        "    return np.array(arr, 'float32')"
      ]
    },
    {
      "cell_type": "code",
      "execution_count": 19,
      "metadata": {
        "id": "04k6JfivG1yX"
      },
      "outputs": [],
      "source": [
        "X_train_bow = np.stack(list(map(text_to_bow, texts_train)))\n",
        "X_test_bow = np.stack(list(map(text_to_bow, texts_test)))"
      ]
    },
    {
      "cell_type": "code",
      "execution_count": 20,
      "metadata": {
        "id": "oivP6BpxG1yX"
      },
      "outputs": [],
      "source": [
        "k_max = len(set(' '.join(texts_train).split()))\n",
        "assert X_train_bow.shape == (len(texts_train), min(k, k_max))\n",
        "assert X_test_bow.shape == (len(texts_test), min(k, k_max))\n",
        "assert np.all(X_train_bow[5:10].sum(-1) == np.array([len(s.split()) for s in  texts_train[5:10]]))\n",
        "assert len(bow_vocabulary) <= min(k, k_max)\n",
        "assert X_train_bow[6, bow_vocabulary.index('.')] == texts_train[6].split().count('.')"
      ]
    },
    {
      "cell_type": "markdown",
      "metadata": {
        "id": "8vhhZCEyG1yX"
      },
      "source": [
        "__Naive bayes:__ perhaps the simplest model that can solve your problem is the so called Naive Bayes Classifier.\n",
        "Its a trivial linear model that assumes the independence of input features and computes the coefficients by, well, counting probabilities.\n",
        "\n",
        "If you don't remember the math behind Naive Bayes, read [this chunk](https://lena-voita.github.io/nlp_course/text_classification.html#naive_bayes) to help refresh your memory. Done? Good! Now let's implement that :)"
      ]
    },
    {
      "cell_type": "code",
      "execution_count": 110,
      "metadata": {
        "id": "wGplrNLDG1yX"
      },
      "outputs": [],
      "source": [
        "class BinaryNaiveBayes:\n",
        "    def fit(self, X, y):\n",
        "        self.delta = 1.0  # add this to all word counts to smoothe probabilities\n",
        "        \"\"\"\n",
        "        Fit a NaiveBayes classifier for two classes\n",
        "        :param X: [batch_size, vocab_size] of bag-of-words features\n",
        "        :param y: [batch_size] of binary targets {0, 1}\n",
        "        \"\"\"\n",
        "        # first, compute marginal probabilities of every class, p(y=k) for k = 0,1\n",
        "        self.p_y = np.array([1-sum(y)/len(y), sum(y)/len(y)])\n",
        "\n",
        "        # count occurences of each word in texts with label 1 and label 0 separately\n",
        "        word_sum = np.sum(X,axis = 0)\n",
        "        word_counts_positive = np.zeros(len(word_sum))\n",
        "        for batch_n in range(len(X)):\n",
        "          if y[batch_n]:\n",
        "            for i in range(len(X[batch_n])):\n",
        "              word_counts_positive[i] += X[batch_n][i]\n",
        "\n",
        "        word_counts_negative = [(word_sum[i] - word_counts_positive[i]) for i in range(len(word_sum))]\n",
        "        # ^-- both must be vectors of shape [vocab_size].\n",
        "        # finally, lets use those counts to estimate p(x | y = k) for k = 0, 1\n",
        "\n",
        "        self.p_x_given_positive = np.array([(self.delta + word_counts_positive[i])/(self.delta * len(word_counts_positive) + sum(word_counts_positive)) for i in range(len(word_counts_positive))])\n",
        "        self.p_x_given_negative = np.array([(self.delta +word_counts_negative[i])/(self.delta *len(word_counts_negative) + sum(word_counts_negative)) for i in range(len(word_counts_positive))])\n",
        "        # both must be of shape [vocab_size]; and don't forget to add self.delta!\n",
        "\n",
        "        return self\n",
        "\n",
        "    def predict_scores(self, X):\n",
        "        \"\"\"\n",
        "        :param X: [batch_size, vocab_size] of bag-of-words features\n",
        "        :returns: a matrix of scores [batch_size, k] of scores for k-th class\n",
        "        \"\"\"\n",
        "        # compute scores for positive and negative classes separately.\n",
        "        # these scores should be proportional to log-probabilities of the respective target {0, 1}\n",
        "        # note: if you apply logarithm to p_x_given_*, the total log-probability can be written\n",
        "        # as a dot-product with X\n",
        "        score_negative = np.array([np.log(i) for i in self.p_x_given_negative])\n",
        "        score_positive = np.array([np.log(i) for i in self.p_x_given_positive])\n",
        "        # you can compute total p(x | y=k) with a dot product\n",
        "        return np.stack([X @ score_negative, X  @ score_positive], axis=-1)\n",
        "\n",
        "    def predict(self, X):\n",
        "        return self.predict_scores(X).argmax(axis=-1)"
      ]
    },
    {
      "cell_type": "code",
      "execution_count": 111,
      "metadata": {
        "id": "4zNXLfrzG1yX"
      },
      "outputs": [],
      "source": [
        "naive_model = BinaryNaiveBayes().fit(X_train_bow, y_train)"
      ]
    },
    {
      "cell_type": "code",
      "execution_count": 112,
      "metadata": {
        "colab": {
          "base_uri": "https://localhost:8080/"
        },
        "id": "HkpOuCjIG1yX",
        "outputId": "9180c975-0f9e-4483-9cee-2fcfbac458bf"
      },
      "outputs": [
        {
          "output_type": "stream",
          "name": "stdout",
          "text": [
            "1.0\n"
          ]
        }
      ],
      "source": [
        "assert naive_model.p_y.shape == (2,) and naive_model.p_y.sum() == 1 and naive_model.p_y[0] > naive_model.p_y[1]\n",
        "assert naive_model.p_x_given_positive.shape == naive_model.p_x_given_negative.shape == X_train_bow.shape[1:]\n",
        "print(naive_model.p_x_given_positive.sum())\n",
        "assert np.allclose(naive_model.p_x_given_positive.sum(), 1.0)\n",
        "assert np.allclose(naive_model.p_x_given_negative.sum(), 1.0)\n",
        "assert naive_model.p_x_given_negative.min() > 0, \"did you forget to add delta?\"\n",
        "\n",
        "f_index = bow_vocabulary.index('fuck')  # offensive tweets should contain more of this\n",
        "assert naive_model.p_x_given_positive[f_index] > naive_model.p_x_given_negative[f_index]\n",
        "\n",
        "g_index = bow_vocabulary.index('good')  # offensive tweets should contain less of this\n",
        "assert naive_model.p_x_given_positive[g_index] < naive_model.p_x_given_negative[g_index]"
      ]
    },
    {
      "cell_type": "code",
      "execution_count": 113,
      "metadata": {
        "colab": {
          "base_uri": "https://localhost:8080/",
          "height": 467
        },
        "id": "Tn9iKcX7G1yY",
        "outputId": "516860d4-7b98-42cd-8d7c-07b0ffd06698"
      },
      "outputs": [
        {
          "output_type": "stream",
          "name": "stdout",
          "text": [
            "Model accuracy: 0.756\n",
            "Well done!\n"
          ]
        },
        {
          "output_type": "display_data",
          "data": {
            "text/plain": [
              "<Figure size 640x480 with 1 Axes>"
            ],
            "image/png": "[encoded data removed]"
          },
          "metadata": {}
        }
      ],
      "source": [
        "from sklearn.metrics import roc_auc_score, roc_curve\n",
        "\n",
        "for name, X, y, model in [\n",
        "    ('train', X_train_bow, y_train, naive_model),\n",
        "    ('test ', X_test_bow, y_test, naive_model)\n",
        "]:\n",
        "    proba = model.predict_scores(X)[:, 1] - model.predict_scores(X)[:, 0]\n",
        "    auc = roc_auc_score(y, proba)\n",
        "    plt.plot(*roc_curve(y, proba)[:2], label='%s AUC=%.4f' % (name, auc))\n",
        "\n",
        "plt.plot([0, 1], [0, 1], '--', color='black',)\n",
        "plt.legend(fontsize='large')\n",
        "plt.grid()\n",
        "\n",
        "test_accuracy = np.mean(naive_model.predict(X_test_bow) == y_test)\n",
        "print(f\"Model accuracy: {test_accuracy:.3f}\")\n",
        "assert test_accuracy > 0.75, \"Accuracy too low. There's likely a mistake in the code.\"\n",
        "print(\"Well done!\")"
      ]
    },
    {
      "cell_type": "markdown",
      "metadata": {
        "id": "FVxlC1XcG1yY"
      },
      "source": [
        "Okay, it definitely learned *something*. Now let's figure out what exactly it learned. The simplest way to do that is by highlighting which words have a greatest ratio of positive to negative probability or vice versa. We'll go with the positive one [because reasons](https://www.urbandictionary.com/define.php?term=because%20reasons).\n",
        "\n",
        "__Your task__ is to compute top-25 words that have the __highest__ ratio of ${p(x_i | y=1)} \\over {p(x_i | y=0)}$. Enjoy!"
      ]
    },
    {
      "cell_type": "code",
      "execution_count": 140,
      "metadata": {
        "colab": {
          "base_uri": "https://localhost:8080/"
        },
        "id": "La2htdoOG1yY",
        "outputId": "21f0eb44-d4a5-4329-ba3e-189299b5f78a"
      },
      "outputs": [
        {
          "output_type": "stream",
          "name": "stdout",
          "text": [
            "#0\t    hitler\t(ratio=475.47341740332655)\n",
            "#1\t      heil\t(ratio=471.80652729481756)\n",
            "#2\t   offfuck\t(ratio=441.24910972390967)\n",
            "#3\t      suck\t(ratio=314.7414009803511)\n",
            "#4\t    nigger\t(ratio=223.68029661904563)\n",
            "#5\t j.delanoy\t(ratio=220.0134065105367)\n",
            "#6\t      dick\t(ratio=187.01139553395618)\n",
            "#7\t      fggt\t(ratio=97.78373622690519)\n",
            "#8\t     bitch\t(ratio=59.89253843897943)\n",
            "#9\t      fuck\t(ratio=53.78105492479786)\n",
            "#10\t      slap\t(ratio=44.00268130210734)\n",
            "#11\t      shit\t(ratio=44.00268130210734)\n",
            "#12\t   fucking\t(ratio=31.779714273744187)\n",
            "#13\t       ass\t(ratio=26.89052746239893)\n",
            "#14\t    stupid\t(ratio=18.334450542544726)\n",
            "#15\t         =\t(ratio=17.53995768570112)\n",
            "#16\t   college\t(ratio=17.11215383970841)\n",
            "#17\t         *\t(ratio=17.11215383970841)\n",
            "#18\t   asshole\t(ratio=15.889857136872093)\n",
            "#19\t         u\t(ratio=15.278708785453937)\n",
            "#20\t   bastard\t(ratio=14.66756043403578)\n",
            "#21\t       hit\t(ratio=14.66756043403578)\n",
            "#22\t         @\t(ratio=13.445263731199464)\n",
            "#23\t     idiot\t(ratio=13.445263731199464)\n",
            "#24\tscientific\t(ratio=12.222967028363149)\n"
          ]
        }
      ],
      "source": [
        "# hint: use naive_model.p_*\n",
        "probability_ratio = naive_model.p_x_given_positive/naive_model.p_x_given_negative\n",
        "bow_voc = np.array(bow_vocabulary)\n",
        "top_negative_words = bow_voc[(-probability_ratio).argsort()][:25]\n",
        "assert len(top_negative_words) == 25 and [isinstance(w, str) for w in top_negative_words]\n",
        "assert 'j.delanoy' in top_negative_words and 'college' in top_negative_words\n",
        "\n",
        "for i, word in enumerate(top_negative_words):\n",
        "    print(f\"#{i}\\t{word.rjust(10, ' ')}\\t(ratio={probability_ratio[bow_vocabulary.index(word)]})\")"
      ]
    },
    {
      "cell_type": "markdown",
      "metadata": {
        "id": "rTI1hdQRG1yY"
      },
      "source": [
        "Now lets try something less prehistoric: __Logistic Regression__. Turns out, if you're using silicon instead of an abacus, you can find model weights by optimizing the log-probability of the answer. Though, of course, you don't even need to write it by hand anymore. Let's sklearn it!"
      ]
    },
    {
      "cell_type": "code",
      "execution_count": 234,
      "metadata": {
        "id": "x1UXkwDTG1yY"
      },
      "outputs": [],
      "source": [
        "from sklearn.linear_model import LogisticRegression\n",
        "bow_model = LogisticRegression(C = 0.14).fit(X_train_bow,y_train)"
      ]
    },
    {
      "cell_type": "code",
      "execution_count": 235,
      "metadata": {
        "colab": {
          "base_uri": "https://localhost:8080/",
          "height": 485
        },
        "id": "ZzL8Ij-KG1yY",
        "outputId": "b4706b18-0e95-401a-a3b4-109a6d628002"
      },
      "outputs": [
        {
          "output_type": "stream",
          "name": "stdout",
          "text": [
            "Model accuracy: 0.772\n",
            "Model accuracy: 0.772\n",
            "Well done!\n"
          ]
        },
        {
          "output_type": "display_data",
          "data": {
            "text/plain": [
              "<Figure size 640x480 with 1 Axes>"
            ],
            "image/png": "[encoded data removed]"
          },
          "metadata": {}
        }
      ],
      "source": [
        "from sklearn.metrics import roc_auc_score, roc_curve\n",
        "\n",
        "for name, X, y, model in [\n",
        "    ('train', X_train_bow, y_train, bow_model),\n",
        "    ('test ', X_test_bow, y_test, bow_model)\n",
        "]:\n",
        "    proba = model.predict_proba(X)[:, 1]\n",
        "    auc = roc_auc_score(y, proba)\n",
        "    plt.plot(*roc_curve(y, proba)[:2], label='%s AUC=%.4f' % (name, auc))\n",
        "\n",
        "plt.plot([0, 1], [0, 1], '--', color='black',)\n",
        "plt.legend(fontsize='large')\n",
        "plt.grid()\n",
        "\n",
        "test_accuracy = np.mean(bow_model.predict(X_test_bow) == y_test)\n",
        "print(f\"Model accuracy: {test_accuracy}\")\n",
        "print(f\"Model accuracy: {test_accuracy:.3f}\")\n",
        "\n",
        "assert test_accuracy > 0.77, \"Hint: tune the parameter C to improve performance\"\n",
        "print(\"Well done!\")"
      ]
    },
    {
      "cell_type": "markdown",
      "metadata": {
        "id": "GAB5sNfXG1yY"
      },
      "source": [
        "### Task: implement TF-IDF features\n",
        "\n",
        "Not all words are equally useful. One can prioritize rare words and downscale words like \"and\"/\"or\" by using __tf-idf features__. This abbreviation stands for __text frequency/inverse document frequence__ and means exactly that:\n",
        "\n",
        "$$ feature_i = { Count(word_i \\in x) \\times { log {N \\over Count(word_i \\in D) + \\alpha} }} $$\n",
        "\n",
        "\n",
        ", where x is a single text, D is your dataset (a collection of texts), N is a total number of documents and $\\alpha$ is a smoothing hyperparameter (typically 1).\n",
        "And $Count(word_i \\in D)$ is the number of documents where $word_i$ appears.\n",
        "\n",
        "It may also be a good idea to normalize each data sample after computing tf-idf features.\n",
        "\n",
        "__Your task:__ implement tf-idf features, train a model and evaluate ROC curve. Compare it with basic BagOfWords model from above.\n",
        "\n",
        "Please don't use sklearn/nltk builtin tf-idf vectorizers in your solution :) You can still use 'em for debugging though."
      ]
    },
    {
      "cell_type": "code",
      "execution_count": 264,
      "metadata": {
        "id": "eaeY_h1RG1yY"
      },
      "outputs": [],
      "source": [
        "def word_in_texts(texts):\n",
        "  d = dict()\n",
        "  for i in texts:\n",
        "    for word in i.split():\n",
        "      if word in d:\n",
        "        d[word] += 1\n",
        "      else:\n",
        "        d[word] = 1\n",
        "  return d\n",
        "\n",
        "def text_to_tfidf(text,wrd_in_texts,num_texts):\n",
        "    \"\"\" convert text string to an array of token counts. Use bow_vocabulary. \"\"\"\n",
        "    arr = np.zeros(len(bow_vocabulary))\n",
        "\n",
        "    d = dict()\n",
        "    for i in text.split():\n",
        "      if i in d:\n",
        "        d[i] += 1\n",
        "      else:\n",
        "        d[i] = 1\n",
        "\n",
        "    for i in range(len(bow_vocabulary)):\n",
        "      if bow_vocabulary[i] in d:\n",
        "        arr[i] = d[bow_vocabulary[i]] * np.log(num_texts / (wrd_in_texts[bow_vocabulary[i]] + 1))\n",
        "\n",
        "    return np.array(arr, 'float32')"
      ]
    },
    {
      "cell_type": "code",
      "source": [
        "wrd_in_texts = word_in_texts(texts_train)"
      ],
      "metadata": {
        "id": "c7E-VWxL5Mob"
      },
      "execution_count": 265,
      "outputs": []
    },
    {
      "cell_type": "code",
      "source": [
        "X_train_bow = np.stack([text_to_tfidf(i,wrd_in_texts,len(texts_train)) for i in texts_train])\n",
        "X_test_bow = np.stack([text_to_tfidf(i,wrd_in_texts,len(texts_train)) for i in texts_test])"
      ],
      "metadata": {
        "id": "JI-V8bBl27LI"
      },
      "execution_count": 266,
      "outputs": []
    },
    {
      "cell_type": "code",
      "source": [
        "from sklearn.linear_model import LogisticRegression\n",
        "bow_model = LogisticRegression(C = 0.1).fit(X_train_bow,y_train)"
      ],
      "metadata": {
        "id": "MRzUJRM57YN-"
      },
      "execution_count": 278,
      "outputs": []
    },
    {
      "cell_type": "code",
      "source": [
        "from sklearn.metrics import roc_auc_score, roc_curve\n",
        "\n",
        "for name, X, y, model in [\n",
        "    ('train', X_train_bow, y_train, bow_model),\n",
        "    ('test ', X_test_bow, y_test, bow_model)\n",
        "]:\n",
        "    proba = model.predict_proba(X)[:, 1]\n",
        "    auc = roc_auc_score(y, proba)\n",
        "    plt.plot(*roc_curve(y, proba)[:2], label='%s AUC=%.4f' % (name, auc))\n",
        "\n",
        "plt.plot([0, 1], [0, 1], '--', color='black',)\n",
        "plt.legend(fontsize='large')\n",
        "plt.grid()\n",
        "\n",
        "test_accuracy = np.mean(bow_model.predict(X_test_bow) == y_test)\n",
        "print(f\"Model accuracy: {test_accuracy:.3f}\")\n"
      ],
      "metadata": {
        "colab": {
          "base_uri": "https://localhost:8080/",
          "height": 448
        },
        "id": "b_Tq3zNj7KLk",
        "outputId": "a77cc0d2-d6ec-41e5-b240-b18da2c300e4"
      },
      "execution_count": 281,
      "outputs": [
        {
          "output_type": "stream",
          "name": "stdout",
          "text": [
            "Model accuracy: 0.778\n"
          ]
        },
        {
          "output_type": "display_data",
          "data": {
            "text/plain": [
              "<Figure size 640x480 with 1 Axes>"
            ],
            "image/png": "[encoded data removed]"
          },
          "metadata": {}
        }
      ]
    },
    {
      "cell_type": "markdown",
      "source": [
        "Accuracy выросло"
      ],
      "metadata": {
        "id": "feeK7t0b8A0B"
      }
    },
    {
      "cell_type": "markdown",
      "metadata": {
        "id": "YnrNPtKtG1yY"
      },
      "source": [
        "```\n",
        "\n",
        "```\n",
        "\n",
        "```\n",
        "\n",
        "```\n",
        "\n",
        "```\n",
        "\n",
        "```\n",
        "\n",
        "```\n",
        "\n",
        "```\n",
        "\n",
        "```\n",
        "\n",
        "```\n",
        "\n",
        "```\n",
        "\n",
        "```\n",
        "\n",
        "```\n",
        "\n",
        "```\n",
        "\n",
        "```\n",
        "\n",
        "```\n",
        "\n",
        "\n",
        "### Solving it better: word vectors\n",
        "\n",
        "Let's try another approach: instead of counting per-word frequencies, we shall map all words to pre-trained word vectors and average over them to get text features.\n",
        "\n",
        "This should give us two key advantages: (1) we now have 10^2 features instead of 10^4 and (2) our model can generalize to word that are not in training dataset.\n",
        "\n",
        "We begin with a standard approach with pre-trained word vectors. However, you may also try\n",
        "* training embeddings from scratch on relevant (unlabeled) data\n",
        "* multiplying word vectors by inverse word frequency in dataset (like tf-idf).\n",
        "* concatenating several embeddings\n",
        "    * call `gensim.downloader.info()['models'].keys()` to get a list of available models\n",
        "* clusterizing words by their word-vectors and try bag of cluster_ids\n",
        "\n",
        "__Note:__ loading pre-trained model may take a while. It's a perfect opportunity to refill your cup of tea/coffee and grab some extra cookies. Or binge-watch some tv series if you're slow on internet connection"
      ]
    },
    {
      "cell_type": "code",
      "execution_count": 282,
      "metadata": {
        "collapsed": true,
        "scrolled": false,
        "colab": {
          "base_uri": "https://localhost:8080/"
        },
        "id": "5oHK3wGoG1yZ",
        "outputId": "542328bd-7394-47cc-8db2-0c97f99618e8"
      },
      "outputs": [
        {
          "output_type": "stream",
          "name": "stdout",
          "text": [
            "[==================================================] 100.0% 958.5/958.4MB downloaded\n"
          ]
        }
      ],
      "source": [
        "import gensim.downloader\n",
        "embeddings = gensim.downloader.load(\"fasttext-wiki-news-subwords-300\")\n",
        "\n",
        "# If you're low on RAM or download speed, use \"glove-wiki-gigaword-100\" instead. Ignore all further asserts."
      ]
    },
    {
      "cell_type": "code",
      "execution_count": 303,
      "metadata": {
        "collapsed": true,
        "id": "iCYKnJYKG1yZ"
      },
      "outputs": [],
      "source": [
        "def vectorize_sum(comment):\n",
        "    \"\"\"\n",
        "    implement a function that converts preprocessed comment to a sum of token vectors\n",
        "    \"\"\"\n",
        "    embedding_dim = embeddings.vectors.shape[1]\n",
        "    features = np.zeros([embedding_dim], dtype='float32')\n",
        "    for i in comment.split():\n",
        "      if i in embeddings:\n",
        "        features += embeddings.get_vector(i)\n",
        "      #else:\n",
        "       # features += embeddings.get_vector(embeddings.most_similar(i))\n",
        "    return features\n",
        "\n",
        "assert np.allclose(\n",
        "    vectorize_sum(\"who cares anymore . they attack with impunity .\")[::70],\n",
        "    np.array([ 0.0108616 ,  0.0261663 ,  0.13855131, -0.18510573, -0.46380025])\n",
        ")"
      ]
    },
    {
      "cell_type": "code",
      "execution_count": 304,
      "metadata": {
        "collapsed": true,
        "id": "EXYuBqCuG1yZ"
      },
      "outputs": [],
      "source": [
        "X_train_wv = np.stack([vectorize_sum(text) for text in texts_train])\n",
        "X_test_wv = np.stack([vectorize_sum(text) for text in texts_test])"
      ]
    },
    {
      "cell_type": "code",
      "execution_count": 305,
      "metadata": {
        "colab": {
          "base_uri": "https://localhost:8080/",
          "height": 576
        },
        "id": "R6jXFBszG1yZ",
        "outputId": "b70a8634-1e30-4f4c-f6b2-1c5674aad17e"
      },
      "outputs": [
        {
          "output_type": "stream",
          "name": "stderr",
          "text": [
            "/usr/local/lib/python3.10/dist-packages/sklearn/linear_model/_logistic.py:458: ConvergenceWarning: lbfgs failed to converge (status=1):\n",
            "STOP: TOTAL NO. of ITERATIONS REACHED LIMIT.\n",
            "\n",
            "Increase the number of iterations (max_iter) or scale the data as shown in:\n",
            "    https://scikit-learn.org/stable/modules/preprocessing.html\n",
            "Please also refer to the documentation for alternative solver options:\n",
            "    https://scikit-learn.org/stable/modules/linear_model.html#logistic-regression\n",
            "  n_iter_i = _check_optimize_result(\n"
          ]
        },
        {
          "output_type": "display_data",
          "data": {
            "text/plain": [
              "<Figure size 640x480 with 1 Axes>"
            ],
            "image/png": "[encoded data removed]"
          },
          "metadata": {}
        }
      ],
      "source": [
        "wv_model = LogisticRegression().fit(X_train_wv, y_train)\n",
        "\n",
        "for name, X, y, model in [\n",
        "    ('bow train', X_train_bow, y_train, bow_model),\n",
        "    ('bow test ', X_test_bow, y_test, bow_model),\n",
        "    ('vec train', X_train_wv, y_train, wv_model),\n",
        "    ('vec test ', X_test_wv, y_test, wv_model)\n",
        "]:\n",
        "    proba = model.predict_proba(X)[:, 1]\n",
        "    auc = roc_auc_score(y, proba)\n",
        "    plt.plot(*roc_curve(y, proba)[:2], label='%s AUC=%.4f' % (name, auc))\n",
        "\n",
        "plt.plot([0, 1], [0, 1], '--', color='black',)\n",
        "plt.legend(fontsize='large')\n",
        "plt.grid()\n",
        "\n",
        "assert roc_auc_score(y_test, wv_model.predict_proba(X_test_wv)[:, 1]) > 0.92, \"something's wrong with your features\""
      ]
    },
    {
      "cell_type": "markdown",
      "metadata": {
        "id": "EjV9ssxlG1yZ"
      },
      "source": [
        "If everything went right, you've just managed to reduce misclassification rate by a factor of two.\n",
        "This trick is very useful when you're dealing with small datasets. However, if you have hundreds of thousands of samples, there's a whole different range of methods for that. We'll get there in the second part."
      ]
    }
  ],
  "metadata": {
    "kernelspec": {
      "display_name": "Python 3",
      "language": "python",
      "name": "python3"
    },
    "language_info": {
      "codemirror_mode": {
        "name": "ipython",
        "version": 3
      },
      "file_extension": ".py",
      "mimetype": "text/x-python",
      "name": "python",
      "nbconvert_exporter": "python",
      "pygments_lexer": "ipython3",
      "version": "3.8.1"
    },
    "colab": {
      "provenance": []
    }
  },
  "nbformat": 4,
  "nbformat_minor": 0
}
