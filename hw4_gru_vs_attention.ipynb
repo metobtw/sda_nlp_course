{
  "cells": [
    {
      "cell_type": "markdown",
      "metadata": {
        "id": "HmsFABwClrsS"
      },
      "source": [
        "## Seminar and homework (10 points total)\n",
        "\n",
        "Today we shall compose encoder-decoder neural networks and apply them to the task of machine translation.\n",
        "\n",
        "![img](https://esciencegroup.files.wordpress.com/2016/03/seq2seq.jpg)\n",
        "_(img: esciencegroup.files.wordpress.com)_\n",
        "\n",
        "\n",
        "Encoder-decoder architectures are about converting anything to anything, including\n",
        " * Machine translation and spoken dialogue systems\n",
        " * [Image captioning](http://mscoco.org/dataset/#captions-challenge2015) and [image2latex](https://openai.com/requests-for-research/#im2latex) (convolutional encoder, recurrent decoder)\n",
        " * Generating [images by captions](https://arxiv.org/abs/1511.02793) (recurrent encoder, convolutional decoder)\n",
        " * Grapheme2phoneme - convert words to transcripts"
      ]
    },
    {
      "cell_type": "markdown",
      "metadata": {
        "id": "R4N9AD2dlrsU"
      },
      "source": [
        "## Our task: machine translation\n",
        "\n",
        "We gonna try our encoder-decoder models on russian to english machine translation problem. More specifically, we'll translate hotel and hostel descriptions. This task shows the scale of machine translation while not requiring you to train your model for weeks if you don't use GPU.\n",
        "\n",
        "Before we get to the architecture, there's some preprocessing to be done. ~~Go tokenize~~ Alright, this time we've done preprocessing for you. As usual, the data will be tokenized with WordPunctTokenizer.\n",
        "\n",
        "However, there's one more thing to do. Our data lines contain unique rare words. If we operate on a word level, we will have to deal with large vocabulary size. If instead we use character-level models, it would take lots of iterations to process a sequence. This time we're gonna pick something inbetween.\n",
        "\n",
        "One popular approach is called [Byte Pair Encoding](https://github.com/rsennrich/subword-nmt) aka __BPE__. The algorithm starts with a character-level tokenization and then iteratively merges most frequent pairs for N iterations. This results in frequent words being merged into a single token and rare words split into syllables or even characters.\n",
        "\n"
      ]
    },
    {
      "cell_type": "code",
      "execution_count": null,
      "metadata": {
        "colab": {
          "base_uri": "https://localhost:8080/"
        },
        "id": "CfvojjHQlrsU",
        "outputId": "dd56f1fb-3a63-472b-f7a7-21743227a632"
      },
      "outputs": [
        {
          "output_type": "stream",
          "name": "stdout",
          "text": [
            "--2023-12-24 07:45:27--  https://www.dropbox.com/s/yy2zqh34dyhv07i/data.txt?dl=1\n",
            "Resolving www.dropbox.com (www.dropbox.com)... 162.125.1.18, 2620:100:6016:18::a27d:112\n",
            "Connecting to www.dropbox.com (www.dropbox.com)|162.125.1.18|:443... connected.\n",
            "HTTP request sent, awaiting response... 302 Found\n",
            "Location: /s/dl/yy2zqh34dyhv07i/data.txt [following]\n",
            "--2023-12-24 07:45:27--  https://www.dropbox.com/s/dl/yy2zqh34dyhv07i/data.txt\n",
            "Reusing existing connection to www.dropbox.com:443.\n",
            "HTTP request sent, awaiting response... 302 Found\n",
            "Location: https://ucde80f15ea2740ad7ac94889a05.dl.dropboxusercontent.com/cd/0/get/CKB2z7aSwXs_f0j63RWxn6OeF3c41C1-MBNosOcmd_wO7Me28ZNZg5scaFtZo_lXWVmOdLbsH8ICTcZEWc-jwQB-Hqb8Y8BbxdF56Ak_4DafOJjrhXzzgtZCc8G1Z0MD7bI/file?dl=1# [following]\n",
            "--2023-12-24 07:45:28--  https://ucde80f15ea2740ad7ac94889a05.dl.dropboxusercontent.com/cd/0/get/CKB2z7aSwXs_f0j63RWxn6OeF3c41C1-MBNosOcmd_wO7Me28ZNZg5scaFtZo_lXWVmOdLbsH8ICTcZEWc-jwQB-Hqb8Y8BbxdF56Ak_4DafOJjrhXzzgtZCc8G1Z0MD7bI/file?dl=1\n",
            "Resolving ucde80f15ea2740ad7ac94889a05.dl.dropboxusercontent.com (ucde80f15ea2740ad7ac94889a05.dl.dropboxusercontent.com)... 162.125.1.15, 2620:100:6016:15::a27d:10f\n",
            "Connecting to ucde80f15ea2740ad7ac94889a05.dl.dropboxusercontent.com (ucde80f15ea2740ad7ac94889a05.dl.dropboxusercontent.com)|162.125.1.15|:443... connected.\n",
            "HTTP request sent, awaiting response... 200 OK\n",
            "Length: 12905335 (12M) [application/binary]\n",
            "Saving to: ‘data.txt’\n",
            "\n",
            "data.txt            100%[===================>]  12.31M  2.05MB/s    in 12s     \n",
            "\n",
            "2023-12-24 07:45:41 (1.01 MB/s) - ‘data.txt’ saved [12905335/12905335]\n",
            "\n",
            "--2023-12-24 07:45:41--  https://raw.githubusercontent.com/yandexdataschool/nlp_course/2020/week04_seq2seq/vocab.py\n",
            "Resolving raw.githubusercontent.com (raw.githubusercontent.com)... 185.199.108.133, 185.199.109.133, 185.199.110.133, ...\n",
            "Connecting to raw.githubusercontent.com (raw.githubusercontent.com)|185.199.108.133|:443... connected.\n",
            "HTTP request sent, awaiting response... 200 OK\n",
            "Length: 2879 (2.8K) [text/plain]\n",
            "Saving to: ‘vocab.py’\n",
            "\n",
            "vocab.py            100%[===================>]   2.81K  --.-KB/s    in 0s      \n",
            "\n",
            "2023-12-24 07:45:41 (46.4 MB/s) - ‘vocab.py’ saved [2879/2879]\n",
            "\n"
          ]
        }
      ],
      "source": [
        "!pip3 install torch>=1.3.0\n",
        "!pip3 install subword-nmt &> log\n",
        "!wget https://www.dropbox.com/s/yy2zqh34dyhv07i/data.txt?dl=1 -O data.txt\n",
        "!wget https://raw.githubusercontent.com/yandexdataschool/nlp_course/2020/week04_seq2seq/vocab.py -O vocab.py\n",
        "# thanks to tilda and deephack teams for the data, Dmitry Emelyanenko for the code :)"
      ]
    },
    {
      "cell_type": "code",
      "execution_count": null,
      "metadata": {
        "colab": {
          "base_uri": "https://localhost:8080/"
        },
        "id": "g9kP0SdxlrsY",
        "outputId": "6f479a75-7c01-4f7a-c9d7-a5c91ef783e9"
      },
      "outputs": [
        {
          "output_type": "stream",
          "name": "stderr",
          "text": [
            "100%|██████████| 8000/8000 [00:22<00:00, 352.52it/s]\n",
            "100%|██████████| 8000/8000 [00:10<00:00, 733.20it/s]\n"
          ]
        }
      ],
      "source": [
        "from nltk.tokenize import WordPunctTokenizer\n",
        "from subword_nmt.learn_bpe import learn_bpe\n",
        "from subword_nmt.apply_bpe import BPE\n",
        "tokenizer = WordPunctTokenizer()\n",
        "def tokenize(x):\n",
        "    return ' '.join(tokenizer.tokenize(x.lower()))\n",
        "\n",
        "# split and tokenize the data\n",
        "with open('train.en', 'w') as f_src,  open('train.ru', 'w') as f_dst:\n",
        "    for line in open('data.txt'):\n",
        "        src_line, dst_line = line.strip().split('\\t')\n",
        "        f_src.write(tokenize(src_line) + '\\n')\n",
        "        f_dst.write(tokenize(dst_line) + '\\n')\n",
        "\n",
        "# build and apply bpe vocs\n",
        "bpe = {}\n",
        "for lang in ['en', 'ru']:\n",
        "    learn_bpe(open('./train.' + lang), open('bpe_rules.' + lang, 'w'), num_symbols=8000)\n",
        "    bpe[lang] = BPE(open('./bpe_rules.' + lang))\n",
        "\n",
        "    with open('train.bpe.' + lang, 'w') as f_out:\n",
        "        for line in open('train.' + lang):\n",
        "            f_out.write(bpe[lang].process_line(line.strip()) + '\\n')"
      ]
    },
    {
      "cell_type": "markdown",
      "metadata": {
        "id": "0UPW3sV8lrsb"
      },
      "source": [
        "### Building vocabularies\n",
        "\n",
        "We now need to build vocabularies that map strings to token ids and vice versa. We're gonna need these fellas when we feed training data into model or convert output matrices into words."
      ]
    },
    {
      "cell_type": "code",
      "execution_count": null,
      "metadata": {
        "id": "CmTy_m_olrsb"
      },
      "outputs": [],
      "source": [
        "import numpy as np\n",
        "import matplotlib.pyplot as plt\n",
        "%matplotlib inline"
      ]
    },
    {
      "cell_type": "code",
      "execution_count": null,
      "metadata": {
        "colab": {
          "base_uri": "https://localhost:8080/"
        },
        "id": "8PskgBSxlrsd",
        "outputId": "95efda9c-1812-429c-8120-4d000357bcb2"
      },
      "outputs": [
        {
          "output_type": "stream",
          "name": "stdout",
          "text": [
            "inp: на территории обустроена бесплатная частная парковка .\n",
            "out: free private parking is available on site .\n",
            "\n",
            "inp: кроме того , в 5 минутах ходьбы работают многочисленные бары и рестораны .\n",
            "out: guests can find many bars and restaurants within a 5 - minute walk .\n",
            "\n",
            "inp: отель san mi@@ gu@@ el расположен в центре мор@@ ели@@ и , в 750 метрах от главной площади города и кафедрального собора .\n",
            "out: hotel san miguel is located in central more@@ lia , 750 metres from the city ’ s main square and cathedral .\n",
            "\n"
          ]
        }
      ],
      "source": [
        "data_inp = np.array(open('./train.bpe.ru').read().split('\\n'))\n",
        "data_out = np.array(open('./train.bpe.en').read().split('\\n'))\n",
        "\n",
        "from sklearn.model_selection import train_test_split\n",
        "train_inp, dev_inp, train_out, dev_out = train_test_split(data_inp, data_out, test_size=3000,\n",
        "                                                          random_state=42)\n",
        "for i in range(3):\n",
        "    print('inp:', train_inp[i])\n",
        "    print('out:', train_out[i], end='\\n\\n')"
      ]
    },
    {
      "cell_type": "code",
      "execution_count": null,
      "metadata": {
        "id": "vipg4O61lrsg"
      },
      "outputs": [],
      "source": [
        "from vocab import Vocab\n",
        "inp_voc = Vocab.from_lines(train_inp)\n",
        "out_voc = Vocab.from_lines(train_out)"
      ]
    },
    {
      "cell_type": "code",
      "execution_count": null,
      "metadata": {
        "colab": {
          "base_uri": "https://localhost:8080/"
        },
        "id": "cwOoHfuhlrsi",
        "outputId": "e6e1b990-d563-4dde-e54c-573c059107d5"
      },
      "outputs": [
        {
          "output_type": "stream",
          "name": "stdout",
          "text": [
            "lines\n",
            "['гостевой дом r .', 'до афин — 20 км .', 'работает боулинг .', 'оборудован балкон .', 'подключен wi - fi .']\n",
            "\n",
            "words to ids (0 = bos, 1 = eos):\n",
            "tensor([[   0, 2688, 2943, 1108,   29,    1,    1,    1],\n",
            "        [   0, 2922, 1834, 8035,   59, 3800,   29,    1],\n",
            "        [   0, 6030, 2083,   29,    1,    1,    1,    1],\n",
            "        [   0, 4927, 1870,   29,    1,    1,    1,    1],\n",
            "        [   0, 5549, 1453,   27,  592,   29,    1,    1]])\n",
            "\n",
            "back to words\n",
            "['гостевой дом r .', 'до афин — 20 км .', 'работает боулинг .', 'оборудован балкон .', 'подключен wi - fi .']\n"
          ]
        }
      ],
      "source": [
        "# Here's how you cast lines into ids and backwards.\n",
        "batch_lines = sorted(train_inp, key=len)[5:10]\n",
        "batch_ids = inp_voc.to_matrix(batch_lines)\n",
        "batch_lines_restored = inp_voc.to_lines(batch_ids)\n",
        "\n",
        "print(\"lines\")\n",
        "print(batch_lines)\n",
        "print(\"\\nwords to ids (0 = bos, 1 = eos):\")\n",
        "print(batch_ids)\n",
        "print(\"\\nback to words\")\n",
        "print(batch_lines_restored)"
      ]
    },
    {
      "cell_type": "markdown",
      "metadata": {
        "id": "gSYu-MkElrsk"
      },
      "source": [
        "Draw source and translation length distributions to estimate the scope of the task."
      ]
    },
    {
      "cell_type": "code",
      "execution_count": null,
      "metadata": {
        "colab": {
          "base_uri": "https://localhost:8080/",
          "height": 391
        },
        "id": "TLLl9cSNlrsl",
        "outputId": "967a3c74-2800-4d98-8157-8f81dc6824c7"
      },
      "outputs": [
        {
          "output_type": "display_data",
          "data": {
            "text/plain": [
              "<Figure size 800x400 with 2 Axes>"
            ],
            "image/png": "[encoded data removed]"
          },
          "metadata": {}
        }
      ],
      "source": [
        "plt.figure(figsize=[8, 4])\n",
        "plt.subplot(1, 2, 1)\n",
        "plt.title(\"source length\")\n",
        "plt.hist(list(map(len, map(str.split, train_inp))), bins=20);\n",
        "\n",
        "plt.subplot(1, 2, 2)\n",
        "plt.title(\"translation length\")\n",
        "plt.hist(list(map(len, map(str.split, train_out))), bins=20);"
      ]
    },
    {
      "cell_type": "markdown",
      "metadata": {
        "id": "BHWgx34flrsn"
      },
      "source": [
        "### Encoder-decoder model\n",
        "\n",
        "The code below contains a template for a simple encoder-decoder model: single GRU encoder/decoder, no attention or anything. This model is implemented for you as a reference and a baseline for your homework assignment."
      ]
    },
    {
      "cell_type": "code",
      "execution_count": null,
      "metadata": {
        "id": "pd_rDRm9lrso"
      },
      "outputs": [],
      "source": [
        "import torch\n",
        "import torch.nn as nn\n",
        "import torch.nn.functional as F\n",
        "device = 'cuda' if torch.cuda.is_available() else 'cpu'"
      ]
    },
    {
      "cell_type": "code",
      "execution_count": null,
      "metadata": {
        "id": "wgfN5-F7lrst"
      },
      "outputs": [],
      "source": [
        "class BasicModel(nn.Module):\n",
        "    def __init__(self, inp_voc, out_voc, emb_size=64, hid_size=128):\n",
        "        \"\"\"\n",
        "        A simple encoder-decoder seq2seq model\n",
        "        \"\"\"\n",
        "        super().__init__() # initialize base class to track sub-layers, parameters, etc.\n",
        "\n",
        "        self.inp_voc, self.out_voc = inp_voc, out_voc\n",
        "        self.hid_size = hid_size\n",
        "\n",
        "        self.emb_inp = nn.Embedding(len(inp_voc), emb_size)\n",
        "        self.emb_out = nn.Embedding(len(out_voc), emb_size)\n",
        "        self.enc0 = nn.GRU(emb_size, hid_size, batch_first=True)\n",
        "\n",
        "        self.dec_start = nn.Linear(hid_size, hid_size)\n",
        "        self.dec0 = nn.GRUCell(emb_size, hid_size)\n",
        "        self.logits = nn.Linear(hid_size, len(out_voc))\n",
        "\n",
        "    def forward(self, inp, out):\n",
        "        \"\"\" Apply model in training mode \"\"\"\n",
        "        initial_state = self.encode(inp)\n",
        "        return self.decode(initial_state, out)\n",
        "\n",
        "\n",
        "    def encode(self, inp, **flags):\n",
        "        \"\"\"\n",
        "        Takes symbolic input sequence, computes initial state\n",
        "        :param inp: matrix of input tokens [batch, time]\n",
        "        :returns: initial decoder state tensors, one or many\n",
        "        \"\"\"\n",
        "        inp_emb = self.emb_inp(inp)\n",
        "        batch_size = inp.shape[0]\n",
        "\n",
        "        enc_seq, [last_state_but_not_really] = self.enc0(inp_emb)\n",
        "        # enc_seq: [batch, time, hid_size], last_state: [batch, hid_size]\n",
        "\n",
        "        # note: last_state is not _actually_ last because of padding, let's find the real last_state\n",
        "        lengths = (inp != self.inp_voc.eos_ix).to(torch.int64).sum(dim=1).clamp_max(inp.shape[1] - 1)\n",
        "        last_state = enc_seq[torch.arange(len(enc_seq)), lengths]\n",
        "        # ^-- shape: [batch_size, hid_size]\n",
        "\n",
        "        dec_start = self.dec_start(last_state)\n",
        "        return [dec_start]\n",
        "\n",
        "    def decode_step(self, prev_state, prev_tokens, **flags):\n",
        "        \"\"\"\n",
        "        Takes previous decoder state and tokens, returns new state and logits for next tokens\n",
        "        :param prev_state: a list of previous decoder state tensors, same as returned by encode(...)\n",
        "        :param prev_tokens: previous output tokens, an int vector of [batch_size]\n",
        "        :return: a list of next decoder state tensors, a tensor of logits [batch, len(out_voc)]\n",
        "        \"\"\"\n",
        "        prev_gru0_state = prev_state[0]\n",
        "\n",
        "        embs = self.emb_out(prev_tokens)\n",
        "        new_dec_state = self.dec0(embs,prev_gru0_state)\n",
        "        output_logits = self.logits(new_dec_state)\n",
        "        new_dec_state = [new_dec_state]\n",
        "        return new_dec_state, output_logits\n",
        "\n",
        "    def decode(self, initial_state, out_tokens, **flags):\n",
        "        \"\"\" Iterate over reference tokens (out_tokens) with decode_step \"\"\"\n",
        "        batch_size = out_tokens.shape[0]\n",
        "        state = initial_state\n",
        "\n",
        "        # initial logits: always predict BOS\n",
        "        onehot_bos = F.one_hot(torch.full([batch_size], self.out_voc.bos_ix, dtype=torch.int64),\n",
        "                               num_classes=len(self.out_voc)).to(device=out_tokens.device)\n",
        "        first_logits = torch.log(onehot_bos.to(torch.float32) + 1e-9)\n",
        "\n",
        "        logits_sequence = [first_logits]\n",
        "        for i in range(out_tokens.shape[1] - 1):\n",
        "            state, logits = self.decode_step(state, out_tokens[:, i])\n",
        "            logits_sequence.append(logits)\n",
        "        return torch.stack(logits_sequence, dim=1)\n",
        "\n",
        "    def decode_inference(self, initial_state, max_len=100, **flags):\n",
        "        \"\"\" Generate translations from model (greedy version) \"\"\"\n",
        "        batch_size, device = len(initial_state[0]), initial_state[0].device\n",
        "        state = initial_state\n",
        "        outputs = [torch.full([batch_size], self.out_voc.bos_ix, dtype=torch.int64,\n",
        "                              device=device)]\n",
        "        all_states = [initial_state]\n",
        "\n",
        "        for i in range(max_len):\n",
        "            state, logits = self.decode_step(state, outputs[-1])\n",
        "            outputs.append(logits.argmax(dim=-1))\n",
        "            all_states.append(state)\n",
        "\n",
        "        return torch.stack(outputs, dim=1), all_states\n",
        "\n",
        "    def translate_lines(self, inp_lines, **kwargs):\n",
        "        inp = self.inp_voc.to_matrix(inp_lines).to(device)\n",
        "        initial_state = self.encode(inp)\n",
        "        out_ids, states = self.decode_inference(initial_state, **kwargs)\n",
        "        return self.out_voc.to_lines(out_ids.cpu().numpy()), states\n"
      ]
    },
    {
      "cell_type": "code",
      "execution_count": null,
      "metadata": {
        "id": "D3L_7eKaI5Aa"
      },
      "outputs": [],
      "source": [
        "# debugging area\n",
        "model = BasicModel(inp_voc, out_voc).to(device)\n",
        "\n",
        "dummy_inp_tokens = inp_voc.to_matrix(sorted(train_inp, key=len)[5:10]).to(device)\n",
        "dummy_out_tokens = out_voc.to_matrix(sorted(train_out, key=len)[5:10]).to(device)\n",
        "\n",
        "h0 = model.encode(dummy_inp_tokens)\n",
        "h1, logits1 = model.decode_step(h0, torch.arange(len(dummy_inp_tokens), device=device))\n",
        "\n",
        "assert isinstance(h1, list) and len(h1) == len(h0)\n",
        "assert h1[0].shape == h0[0].shape and not torch.allclose(h1[0], h0[0])\n",
        "assert logits1.shape == (len(dummy_inp_tokens), len(out_voc))\n",
        "\n",
        "logits_seq = model.decode(h0, dummy_out_tokens)\n",
        "assert logits_seq.shape == (dummy_out_tokens.shape[0], dummy_out_tokens.shape[1], len(out_voc))\n",
        "\n",
        "# full forward\n",
        "logits_seq2 = model(dummy_inp_tokens, dummy_out_tokens)\n",
        "assert logits_seq2.shape == logits_seq.shape"
      ]
    },
    {
      "cell_type": "code",
      "execution_count": null,
      "metadata": {
        "id": "ftMDOi5CI5Aa",
        "outputId": "4b6d1553-4aef-4008-d56d-9e3c5b93004a",
        "colab": {
          "base_uri": "https://localhost:8080/"
        }
      },
      "outputs": [
        {
          "output_type": "stream",
          "name": "stdout",
          "text": [
            "Translations without training:\n",
            "sted hir sund@@ groves boutique elling seasonal hr@@ sten@@ bread sten@@ lima 37 sultanahmet ty@@ ail santos ka which mall wines prior every ars food\n",
            "sted hir sund@@ groves boutique elling seasonal hr@@ sten@@ bread sten@@ lima 37 sultanahmet ty@@ ail santos ka which mall wines prior every ars food\n",
            "sted hir sund@@ groves boutique elling seasonal hr@@ sten@@ bread sten@@ lima 37 sultanahmet ty@@ ail santos ka which mall wines prior every ars food\n"
          ]
        }
      ],
      "source": [
        "dummy_translations, dummy_states = model.translate_lines(train_inp[:3], max_len=25)\n",
        "print(\"Translations without training:\")\n",
        "print('\\n'.join([line for line in dummy_translations]))"
      ]
    },
    {
      "cell_type": "markdown",
      "metadata": {
        "id": "_wuv1-aVlrs0"
      },
      "source": [
        "### Training loss (2 points)\n",
        "\n",
        "Our training objective is almost the same as it was for neural language models:\n",
        "$$ L = {\\frac1{|D|}} \\sum_{X, Y \\in D} \\sum_{y_t \\in Y} - \\log p(y_t \\mid y_1, \\dots, y_{t-1}, X, \\theta) $$\n",
        "\n",
        "where $|D|$ is the __total length of all sequences__, including BOS and first EOS, but excluding PAD."
      ]
    },
    {
      "cell_type": "code",
      "execution_count": null,
      "metadata": {
        "id": "c8XPV8sWlrs5",
        "scrolled": true
      },
      "outputs": [],
      "source": [
        "\n",
        "def compute_loss(model, inp, out, **flags):\n",
        "    \"\"\"\n",
        "    Compute loss (float32 scalar) as in the formula above\n",
        "    :param inp: input tokens matrix, int32[batch, time]\n",
        "    :param out: reference tokens matrix, int32[batch, time]\n",
        "\n",
        "    In order to pass the tests, your function should\n",
        "    * include loss at first EOS but not the subsequent ones\n",
        "    * divide sum of losses by a sum of input lengths (use voc.compute_mask)\n",
        "    \"\"\"\n",
        "    mask = model.out_voc.compute_mask(out) # [batch_size, out_len]\n",
        "    targets_1hot = F.one_hot(out, len(model.out_voc)).to(torch.float32)\n",
        "\n",
        "    # outputs of the model, [batch_size, out_len, num_tokens]\n",
        "    logits_seq = model(inp,out)\n",
        "\n",
        "    # log-probabilities of all tokens at all steps, [batch_size, out_len, num_tokens]\n",
        "    logprobs_seq = torch.log_softmax(logits_seq,dim = -1)\n",
        "\n",
        "    # log-probabilities of correct outputs, [batch_size, out_len]\n",
        "    logp_out = (logprobs_seq * targets_1hot).sum(dim=-1)\n",
        "    # ^-- this will select the probability of the actual next token.\n",
        "    # Note: you can compute loss more efficiently using using F.cross_entropy\n",
        "    # average cross-entropy over tokens where mask == True\n",
        "    after_mask_sum = torch.sum(logp_out * mask)\n",
        "    return -after_mask_sum / mask.sum()"
      ]
    },
    {
      "cell_type": "code",
      "execution_count": null,
      "metadata": {
        "colab": {
          "base_uri": "https://localhost:8080/"
        },
        "id": "ME_LWUeklrs7",
        "outputId": "78215b05-029c-4feb-9fc0-763a160cab32"
      },
      "outputs": [
        {
          "output_type": "stream",
          "name": "stdout",
          "text": [
            "Loss: tensor(7.5751, device='cuda:0', grad_fn=<DivBackward0>)\n"
          ]
        }
      ],
      "source": [
        "dummy_loss = compute_loss(model, dummy_inp_tokens, dummy_out_tokens)\n",
        "print(\"Loss:\", dummy_loss)\n",
        "assert np.allclose(dummy_loss.item(), 7.5, rtol=0.1, atol=0.1), \"We're sorry for your loss\"\n",
        "\n",
        "# test autograd\n",
        "dummy_loss.backward()\n",
        "for name, param in model.named_parameters():\n",
        "    assert param.grad is not None and abs(param.grad.max()) != 0, f\"Param {name} received no gradients\""
      ]
    },
    {
      "cell_type": "markdown",
      "metadata": {
        "id": "HpbaBpW7lrs-"
      },
      "source": [
        "### Evaluation: BLEU\n",
        "\n",
        "Machine translation is commonly evaluated with [BLEU](https://en.wikipedia.org/wiki/BLEU) score. This metric simply computes which fraction of predicted n-grams is actually present in the reference translation. It does so for n=1,2,3 and 4 and computes the geometric average with penalty if translation is shorter than reference.\n",
        "\n",
        "While BLEU [has many drawbacks](http://www.cs.jhu.edu/~ccb/publications/re-evaluating-the-role-of-bleu-in-mt-research.pdf), it still remains the most commonly used metric and one of the simplest to compute."
      ]
    },
    {
      "cell_type": "code",
      "execution_count": null,
      "metadata": {
        "id": "Gb1-PhKIlrs-"
      },
      "outputs": [],
      "source": [
        "from nltk.translate.bleu_score import corpus_bleu\n",
        "def compute_bleu(model, inp_lines, out_lines, bpe_sep='@@ ', **flags):\n",
        "    \"\"\"\n",
        "    Estimates corpora-level BLEU score of model's translations given inp and reference out\n",
        "    Note: if you're serious about reporting your results, use https://pypi.org/project/sacrebleu\n",
        "    \"\"\"\n",
        "    with torch.no_grad():\n",
        "        translations, _ = model.translate_lines(inp_lines, **flags)\n",
        "        translations = [line.replace(bpe_sep, '') for line in translations]\n",
        "        actual = [line.replace(bpe_sep, '') for line in out_lines]\n",
        "        return corpus_bleu(\n",
        "            [[ref.split()] for ref in actual],\n",
        "            [trans.split() for trans in translations],\n",
        "            smoothing_function=lambda precisions, **kw: [p + 1.0 / p.denominator for p in precisions]\n",
        "            ) * 100"
      ]
    },
    {
      "cell_type": "code",
      "execution_count": null,
      "metadata": {
        "colab": {
          "base_uri": "https://localhost:8080/"
        },
        "id": "gZvfid1RlrtA",
        "outputId": "84938075-b0cb-4bf0-d66a-804a9a2f06c5"
      },
      "outputs": [
        {
          "output_type": "execute_result",
          "data": {
            "text/plain": [
              "0.0029927512471732056"
            ]
          },
          "metadata": {},
          "execution_count": 15
        }
      ],
      "source": [
        "compute_bleu(model, dev_inp, dev_out)"
      ]
    },
    {
      "cell_type": "markdown",
      "metadata": {
        "id": "nQDhGwg4lrtC"
      },
      "source": [
        "### Training loop\n",
        "\n",
        "Training encoder-decoder models isn't that different from any other models: sample batches, compute loss, backprop and update"
      ]
    },
    {
      "cell_type": "code",
      "execution_count": null,
      "metadata": {
        "id": "yfwIaixHlrtI",
        "scrolled": false
      },
      "outputs": [],
      "source": [
        "from IPython.display import clear_output\n",
        "from tqdm import tqdm, trange\n",
        "metrics = {'train_loss': [], 'dev_bleu': [] }\n",
        "\n",
        "model = BasicModel(inp_voc, out_voc).to(device)\n",
        "opt = torch.optim.Adam(model.parameters(), lr=1e-3)\n",
        "batch_size = 32"
      ]
    },
    {
      "cell_type": "code",
      "execution_count": null,
      "metadata": {
        "colab": {
          "base_uri": "https://localhost:8080/",
          "height": 426
        },
        "id": "LlDT6eDUlrtL",
        "scrolled": true,
        "outputId": "7229ebef-0713-4e19-edf1-cf0e0663a742"
      },
      "outputs": [
        {
          "output_type": "display_data",
          "data": {
            "text/plain": [
              "<Figure size 1200x400 with 2 Axes>"
            ],
            "image/png": "[encoded data removed]"
          },
          "metadata": {}
        },
        {
          "output_type": "stream",
          "name": "stdout",
          "text": [
            "Mean loss=1.788\n"
          ]
        },
        {
          "output_type": "stream",
          "name": "stderr",
          "text": [
            "\r100%|██████████| 25000/25000 [19:31<00:00, 21.35it/s]\n"
          ]
        }
      ],
      "source": [
        "for _ in trange(25000):\n",
        "    step = len(metrics['train_loss']) + 1\n",
        "    batch_ix = np.random.randint(len(train_inp), size=batch_size)\n",
        "    batch_inp = inp_voc.to_matrix(train_inp[batch_ix]).to(device)\n",
        "    batch_out = out_voc.to_matrix(train_out[batch_ix]).to(device)\n",
        "\n",
        "    loss_t = compute_loss(model, batch_inp, batch_out)\n",
        "    loss_t.backward()\n",
        "    opt.step()\n",
        "    opt.zero_grad()\n",
        "\n",
        "    metrics['train_loss'].append((step, loss_t.item()))\n",
        "\n",
        "    if step % 100 == 0:\n",
        "        metrics['dev_bleu'].append((step, compute_bleu(model, dev_inp, dev_out)))\n",
        "\n",
        "        clear_output(True)\n",
        "        plt.figure(figsize=(12,4))\n",
        "        for i, (name, history) in enumerate(sorted(metrics.items())):\n",
        "            plt.subplot(1, len(metrics), i + 1)\n",
        "            plt.title(name)\n",
        "            plt.plot(*zip(*history))\n",
        "            plt.grid()\n",
        "        plt.show()\n",
        "        print(\"Mean loss=%.3f\" % np.mean(metrics['train_loss'][-10:], axis=0)[1], flush=True)\n",
        "\n",
        "# Note: it's okay if bleu oscillates up and down as long as it gets better on average over long term (e.g. 5k batches)"
      ]
    },
    {
      "cell_type": "code",
      "execution_count": null,
      "metadata": {
        "id": "2ahuhKVhlrtP"
      },
      "outputs": [],
      "source": [
        "assert np.mean(metrics['dev_bleu'][-10:], axis=0)[1] > 15, \"We kind of need a higher bleu BLEU from you. Kind of right now.\""
      ]
    },
    {
      "cell_type": "code",
      "execution_count": null,
      "metadata": {
        "colab": {
          "base_uri": "https://localhost:8080/"
        },
        "id": "KyaHOpealrtS",
        "outputId": "e54947a9-50ff-4bc6-f370-c8892eb31a81"
      },
      "outputs": [
        {
          "output_type": "stream",
          "name": "stdout",
          "text": [
            "в распоряжении гостей общая кухня и общая гостиная .\n",
            "shared kitchen facilities are offered at the property . the property offers a shared lounge .\n",
            "\n",
            "кроме того , предоставляется прокат велосипедов , услуги трансфера и бесплатная парковка .\n",
            "ski storage and car hire is available at the property .\n",
            "\n",
            "расстояние до города ки@@ сси@@ м@@ ми составляет 26 км .\n",
            "the coliseum is 26 km from the property .\n",
            "\n",
            "апартаменты в пент@@ хаусе с общим открытым бассейном , садом , кондиционером и террасой для загара расположены в 5 минутах ходьбы от пляжа на курорте ка@@ бо - рой .\n",
            "located in a residential area , a 5 - minute walk from the beach , guarujá villa offers self - catering accommodation with a private pool and a terrace . the property is a 5 - minute walk from the beach .\n",
            "\n",
            "апартаменты mo@@ s@@ co@@ w point - loft red square находятся в москве , в 200 метрах от большого театра .\n",
            "set 200 metres from the eup@@ hr@@ é church , the whitewashed dom@@ sagrada familia is located in the centre of lviv .\n",
            "\n",
            "в вашем распоряжении собственная ванная комната с душем и полотенцами .\n",
            "featuring a shower , private bathrooms also come with towels and towels .\n",
            "\n"
          ]
        }
      ],
      "source": [
        "for inp_line, trans_line in zip(dev_inp[::500], model.translate_lines(dev_inp[::500])[0]):\n",
        "    print(inp_line)\n",
        "    print(trans_line)\n",
        "    print()"
      ]
    },
    {
      "cell_type": "markdown",
      "metadata": {
        "id": "edk_oVg0lrtW"
      },
      "source": [
        "### Your Attention Required\n",
        "\n",
        "In this section we want you to improve over the basic model by implementing a simple attention mechanism.\n",
        "\n",
        "This is gonna be a two-parter: building the __attention layer__ and using it for an __attentive seq2seq model__."
      ]
    },
    {
      "cell_type": "markdown",
      "metadata": {
        "id": "Qz9aROAIlrtX"
      },
      "source": [
        "### Attention layer (3 points)\n",
        "\n",
        "Here you will have to implement a layer that computes a simple additive attention:\n",
        "\n",
        "Given encoder sequence $ h^e_0, h^e_1, h^e_2, ..., h^e_T$ and a single decoder state $h^d$,\n",
        "\n",
        "* Compute logits with a 2-layer neural network\n",
        "$$a_t = linear_{out}(tanh(linear_{e}(h^e_t) + linear_{d}(h_d)))$$\n",
        "* Get probabilities from logits,\n",
        "$$ p_t = {{e ^ {a_t}} \\over { \\sum_\\tau e^{a_\\tau} }} $$\n",
        "\n",
        "* Add up encoder states with probabilities to get __attention response__\n",
        "$$ attn = \\sum_t p_t \\cdot h^e_t $$\n",
        "\n",
        "You can learn more about attention layers in the lecture slides or [from this post](https://distill.pub/2016/augmented-rnns/)."
      ]
    },
    {
      "cell_type": "code",
      "execution_count": null,
      "metadata": {
        "id": "3olwRgREI5Ac"
      },
      "outputs": [],
      "source": [
        "class AttentionLayer(nn.Module):\n",
        "    def __init__(self, name, enc_size, dec_size, hid_size, activ=torch.tanh):\n",
        "        \"\"\" A layer that computes additive attention response and weights \"\"\"\n",
        "        super().__init__()\n",
        "        self.name = name\n",
        "        self.enc_size = enc_size # num units in encoder state\n",
        "        self.dec_size = dec_size # num units in decoder state\n",
        "        self.hid_size = hid_size # attention layer hidden units\n",
        "        self.activ = activ       # attention layer hidden nonlinearity\n",
        "\n",
        "        # create trainable paramteres like this:\n",
        "        self.dec_lin = nn.Linear(dec_size,hid_size)\n",
        "        self.enc_lin = nn.Linear(enc_size,hid_size)\n",
        "        self.logits_lin = nn.Linear(hid_size,1)\n",
        "\n",
        "    def forward(self, enc, dec, inp_mask):\n",
        "        \"\"\"\n",
        "        Computes attention response and weights\n",
        "        :param enc: encoder activation sequence, float32[batch_size, ninp, enc_size]\n",
        "        :param dec: single decoder state used as \"query\", float32[batch_size, dec_size]\n",
        "        :param inp_mask: mask on enc activatons (0 after first eos), float32 [batch_size, ninp]\n",
        "        :returns: attn[batch_size, enc_size], probs[batch_size, ninp]\n",
        "            - attn - attention response vector (weighted sum of enc)\n",
        "            - probs - attention weights after softmax\n",
        "        \"\"\"\n",
        "\n",
        "        # Compute logits\n",
        "        dec_state = self.dec_lin(dec)\n",
        "        enc_state = self.enc_lin(enc)\n",
        "        #print(dec_state.shape,enc_state.shape)\n",
        "        after_activ = self.activ(dec_state.unsqueeze(1) + enc_state)\n",
        "        logits = self.logits_lin(after_activ)\n",
        "        # Apply mask - if mask is 0, logits should be -inf or -1e9\n",
        "        # You may need torch.where\n",
        "        logits = logits.squeeze()\n",
        "        logits[torch.where(inp_mask == 0)] = -1e9\n",
        "\n",
        "        # Compute attention probabilities (softmax)\n",
        "        probs = torch.softmax(logits,dim = -1)\n",
        "\n",
        "        # Compute attention response using enc and probs\n",
        "        attn = torch.sum(enc * probs.unsqueeze(2),dim = 1)\n",
        "        return attn, probs"
      ]
    },
    {
      "cell_type": "markdown",
      "metadata": {
        "id": "IalfpdAelrtb"
      },
      "source": [
        "### Seq2seq model with attention (3 points)\n",
        "\n",
        "You can now use the attention layer to build a network. The simplest way to implement attention is to use it in decoder phase:\n",
        "![img](https://i.imgur.com/6fKHlHb.png)\n",
        "_image from distill.pub [article](https://distill.pub/2016/augmented-rnns/)_\n",
        "\n",
        "On every step, use __previous__ decoder state to obtain attention response. Then feed concat this response to the inputs of next attention layer.\n",
        "\n",
        "The key implementation detail here is __model state__. Put simply, you can add any tensor into the list of `encode` outputs. You will then have access to them at each `decode` step. This may include:\n",
        "* Last RNN hidden states (as in basic model)\n",
        "* The whole sequence of encoder outputs (to attend to) and mask\n",
        "* Attention probabilities (to visualize)\n",
        "\n",
        "_There are, of course, alternative ways to wire attention into your network and different kinds of attention. Take a look at [this](https://arxiv.org/abs/1609.08144), [this](https://arxiv.org/abs/1706.03762) and [this](https://arxiv.org/abs/1808.03867) for ideas. And for image captioning/im2latex there's [visual attention](https://arxiv.org/abs/1502.03044)_"
      ]
    },
    {
      "cell_type": "code",
      "execution_count": null,
      "metadata": {
        "id": "NCKPB5JmcE6j"
      },
      "outputs": [],
      "source": [
        "class AttentiveModel(BasicModel):\n",
        "    def __init__(self, name, inp_voc, out_voc,\n",
        "                 emb_size=64, hid_size=128, attn_size=128):\n",
        "        \"\"\" Translation model that uses attention. See instructions above. \"\"\"\n",
        "        super().__init__(inp_voc, out_voc, emb_size, hid_size)\n",
        "        self.inp_voc, self.out_voc = inp_voc, out_voc\n",
        "        self.hid_size = hid_size\n",
        "\n",
        "        self.attention = AttentionLayer('Attention',hid_size,hid_size,attn_size)\n",
        "        self.dec = nn.GRUCell(hid_size + emb_size, hid_size)\n",
        "    def encode(self, inp, **flags):\n",
        "        \"\"\"\n",
        "        Takes symbolic input sequence, computes initial state\n",
        "        :param inp: matrix of input tokens [batch, time]\n",
        "        :return: a list of initial decoder state tensors\n",
        "        \"\"\"\n",
        "\n",
        "        # encode input sequence, create initial decoder states\n",
        "        inp_emb = self.emb_inp(inp)\n",
        "        batch_size = inp.shape[0]\n",
        "        enc_seq, [last_state_but_not_really] = self.enc0(inp_emb)\n",
        "        # note: last_state is not _actually_ last because of padding, let's find the real last_state\n",
        "        lengths = (inp != self.inp_voc.eos_ix).to(torch.int64).sum(dim=1).clamp_max(inp.shape[1] - 1)\n",
        "        last_state = enc_seq[torch.arange(len(enc_seq)), lengths]\n",
        "        # ^-- shape: [batch_size, hid_size]\n",
        "\n",
        "        dec_start = self.dec_start(last_state)\n",
        "        mask = self.out_voc.compute_mask(inp)\n",
        "        # apply attention layer from initial decoder hidden state\n",
        "        first_attn_probas = self.attention(enc_seq,dec_start,mask)[1]\n",
        "\n",
        "        # Build first state: include\n",
        "        # * initial states for decoder recurrent layers\n",
        "        # * encoder sequence and encoder attn mask (for attention)\n",
        "        # * make sure that last state item is attention probabilities tensor\n",
        "\n",
        "        first_state = [dec_start, enc_seq, mask, first_attn_probas]\n",
        "        return first_state\n",
        "\n",
        "    def decode_step(self, prev_state, prev_tokens, **flags):\n",
        "        \"\"\"\n",
        "        Takes previous decoder state and tokens, returns new state and logits for next tokens\n",
        "        :param prev_state: a list of previous decoder state tensors\n",
        "        :param prev_tokens: previous output tokens, an int vector of [batch_size]\n",
        "        :return: a list of next decoder state tensors, a tensor of logits [batch, n_tokens]\n",
        "        \"\"\"\n",
        "        prev_gru0_state,enc_seq, mask,_ = prev_state\n",
        "        prev_embs = self.emb_out(prev_tokens)\n",
        "        attention, probs = self.attention(enc_seq,prev_gru0_state,mask)\n",
        "       # print(prev_tokens.shape,attention.unsqueeze(1).shape)\n",
        "        new_token = torch.cat((prev_embs, attention),dim = -1)\n",
        "        new_dec_state = self.dec(new_token,prev_gru0_state)\n",
        "\n",
        "        output_logits = self.logits(new_dec_state)\n",
        "        new_dec_state = [new_dec_state,enc_seq,mask,probs]\n",
        "\n",
        "        return new_dec_state, output_logits\n"
      ]
    },
    {
      "cell_type": "markdown",
      "metadata": {
        "id": "ryZCOTEslrtf"
      },
      "source": [
        "### Training attentive model\n",
        "\n",
        "Please reuse the infrastructure you've built for the regular model. I hope you didn't hard-code anything :)"
      ]
    },
    {
      "cell_type": "code",
      "execution_count": null,
      "metadata": {
        "id": "-YMHPgZxcFaQ"
      },
      "outputs": [],
      "source": [
        "from IPython.display import clear_output\n",
        "from tqdm import tqdm, trange\n",
        "metrics = {'train_loss': [], 'dev_bleu': [] }\n",
        "\n",
        "model = AttentiveModel('Attention',inp_voc, out_voc).to(device)\n",
        "opt = torch.optim.Adam(model.parameters(), lr=1e-3)\n",
        "batch_size = 32"
      ]
    },
    {
      "cell_type": "code",
      "execution_count": null,
      "metadata": {
        "id": "XSOXgOw9I5Ad",
        "outputId": "5ce95987-592a-407a-90c5-3ca49241b8c7",
        "colab": {
          "base_uri": "https://localhost:8080/",
          "height": 426
        }
      },
      "outputs": [
        {
          "output_type": "display_data",
          "data": {
            "text/plain": [
              "<Figure size 1200x400 with 2 Axes>"
            ],
            "image/png": "[encoded data removed]"
          },
          "metadata": {}
        },
        {
          "output_type": "stream",
          "name": "stdout",
          "text": [
            "Mean loss=1.574\n"
          ]
        },
        {
          "output_type": "stream",
          "name": "stderr",
          "text": [
            "\r100%|██████████| 25000/25000 [50:55<00:00,  8.18it/s]\n"
          ]
        }
      ],
      "source": [
        "for _ in trange(25000):\n",
        "    step = len(metrics['train_loss']) + 1\n",
        "    batch_ix = np.random.randint(len(train_inp), size=batch_size)\n",
        "    batch_inp = inp_voc.to_matrix(train_inp[batch_ix]).to(device)\n",
        "    batch_out = out_voc.to_matrix(train_out[batch_ix]).to(device)\n",
        "\n",
        "    loss_t = compute_loss(model, batch_inp, batch_out)\n",
        "    loss_t.backward()\n",
        "    opt.step()\n",
        "    opt.zero_grad()\n",
        "\n",
        "    metrics['train_loss'].append((step, loss_t.item()))\n",
        "\n",
        "    if step % 100 == 0:\n",
        "        metrics['dev_bleu'].append((step, compute_bleu(model, dev_inp, dev_out)))\n",
        "\n",
        "        clear_output(True)\n",
        "        plt.figure(figsize=(12,4))\n",
        "        for i, (name, history) in enumerate(sorted(metrics.items())):\n",
        "            plt.subplot(1, len(metrics), i + 1)\n",
        "            plt.title(name)\n",
        "            plt.plot(*zip(*history))\n",
        "            plt.grid()\n",
        "        plt.show()\n",
        "        print(\"Mean loss=%.3f\" % np.mean(metrics['train_loss'][-10:], axis=0)[1], flush=True)\n",
        "\n",
        "# Note: it's okay if bleu oscillates up and down as long as it gets better on average over long term (e.g. 5k batches)"
      ]
    },
    {
      "cell_type": "code",
      "execution_count": null,
      "metadata": {
        "id": "iWrw1z-ZI5Ad",
        "outputId": "0daace54-b51f-47db-b116-57faae1f106a",
        "colab": {
          "base_uri": "https://localhost:8080/"
        }
      },
      "outputs": [
        {
          "output_type": "execute_result",
          "data": {
            "text/plain": [
              "23.653792346517804"
            ]
          },
          "metadata": {},
          "execution_count": 57
        }
      ],
      "source": [
        "compute_bleu(model, dev_inp, dev_out)"
      ]
    },
    {
      "cell_type": "markdown",
      "metadata": {
        "id": "Sfa5DFYSI5Ad"
      },
      "source": [
        "### Visualizing model attention (2 points)\n",
        "\n",
        "After training the attentive translation model, you can check it's sanity by visualizing its attention weights.\n",
        "\n",
        "We provided you with a function that draws attention maps using [`Bokeh`](https://bokeh.pydata.org/en/latest/index.html). Once you managed to produce something better than random noise, please save at least 3 attention maps and __submit them to anytask__ alongside this notebook to get the max grade. Saving bokeh figures as __cell outputs is not enough!__ (TAs can't see saved bokeh figures in anytask). You can save bokeh images as screenshots or using this button:\n",
        "\n",
        "![bokeh_panel](https://github.com/yandexdataschool/nlp_course/raw/2019/resources/bokeh_panel.png)\n",
        "\n",
        "__Note:__ you're not locked into using bokeh. If you prefer a different visualization method, feel free to use that instead of bokeh."
      ]
    },
    {
      "cell_type": "code",
      "execution_count": null,
      "metadata": {
        "id": "Wz9lzpvDI5Ad"
      },
      "outputs": [],
      "source": [
        "import bokeh.plotting as pl\n",
        "import bokeh.models as bm\n",
        "from bokeh.io import output_notebook, show\n",
        "output_notebook()\n",
        "\n",
        "def draw_attention(inp_line, translation, probs):\n",
        "    \"\"\" An intentionally ambiguous function to visualize attention weights \"\"\"\n",
        "    inp_tokens = inp_voc.tokenize(inp_line)\n",
        "    trans_tokens = out_voc.tokenize(translation)\n",
        "    probs = probs[:len(trans_tokens), :len(inp_tokens)]\n",
        "\n",
        "    fig = pl.figure(x_range=(0, len(inp_tokens)), y_range=(0, len(trans_tokens)),\n",
        "                    x_axis_type=None, y_axis_type=None, tools=[])\n",
        "    fig.image([probs[::-1]], 0, 0, len(inp_tokens), len(trans_tokens))\n",
        "\n",
        "    fig.add_layout(bm.LinearAxis(axis_label='source tokens'), 'above')\n",
        "    fig.xaxis.ticker = np.arange(len(inp_tokens)) + 0.5\n",
        "    fig.xaxis.major_label_overrides = dict(zip(np.arange(len(inp_tokens)) + 0.5, inp_tokens))\n",
        "    fig.xaxis.major_label_orientation = 45\n",
        "\n",
        "    fig.add_layout(bm.LinearAxis(axis_label='translation tokens'), 'left')\n",
        "    fig.yaxis.ticker = np.arange(len(trans_tokens)) + 0.5\n",
        "    fig.yaxis.major_label_overrides = dict(zip(np.arange(len(trans_tokens)) + 0.5, trans_tokens[::-1]))\n",
        "\n",
        "    show(fig)"
      ]
    },
    {
      "cell_type": "code",
      "execution_count": null,
      "metadata": {
        "id": "FVCNG_0NI5Ad"
      },
      "outputs": [],
      "source": [
        "inp = dev_inp[::1000]\n",
        "\n",
        "trans, states = model.translate_lines(inp)\n",
        "\n",
        "# select attention probs from model state (you may need to change this for your custom model)\n",
        "# attention_probs below must have shape [batch_size, translation_length, input_length], extracted from states\n",
        "# e.g. if attention probs are at the end of each state, use np.stack([state[-1] for state in states], axis=1)\n",
        "attention_probs =  np.stack([state[-1].detach().cpu().numpy() for state in states], axis=1)"
      ]
    },
    {
      "cell_type": "code",
      "execution_count": null,
      "metadata": {
        "id": "RY5rURwuI5Ah",
        "outputId": "d9f03c05-cdd1-45cd-bda2-bc0bb574923e",
        "colab": {
          "base_uri": "https://localhost:8080/",
          "height": 1000
        }
      },
      "outputs": [
        {
          "output_type": "display_data",
          "data": {
            "application/javascript": [
              "(function(root) {\n",
              "  function now() {\n",
              "    return new Date();\n",
              "  }\n",
              "\n",
              "  const force = true;\n",
              "\n",
              "  if (typeof root._bokeh_onload_callbacks === \"undefined\" || force === true) {\n",
              "    root._bokeh_onload_callbacks = [];\n",
              "    root._bokeh_is_loading = undefined;\n",
              "  }\n",
              "\n",
              "const JS_MIME_TYPE = 'application/javascript';\n",
              "  const HTML_MIME_TYPE = 'text/html';\n",
              "  const EXEC_MIME_TYPE = 'application/vnd.bokehjs_exec.v0+json';\n",
              "  const CLASS_NAME = 'output_bokeh rendered_html';\n",
              "\n",
              "  /**\n",
              "   * Render data to the DOM node\n",
              "   */\n",
              "  function render(props, node) {\n",
              "    const script = document.createElement(\"script\");\n",
              "    node.appendChild(script);\n",
              "  }\n",
              "\n",
              "  /**\n",
              "   * Handle when an output is cleared or removed\n",
              "   */\n",
              "  function handleClearOutput(event, handle) {\n",
              "    function drop(id) {\n",
              "      const view = Bokeh.index.get_by_id(id)\n",
              "      if (view != null) {\n",
              "        view.model.document.clear()\n",
              "        Bokeh.index.delete(view)\n",
              "      }\n",
              "    }\n",
              "\n",
              "    const cell = handle.cell;\n",
              "\n",
              "    const id = cell.output_area._bokeh_element_id;\n",
              "    const server_id = cell.output_area._bokeh_server_id;\n",
              "\n",
              "    // Clean up Bokeh references\n",
              "    if (id != null) {\n",
              "      drop(id)\n",
              "    }\n",
              "\n",
              "    if (server_id !== undefined) {\n",
              "      // Clean up Bokeh references\n",
              "      const cmd_clean = \"from bokeh.io.state import curstate; print(curstate().uuid_to_server['\" + server_id + \"'].get_sessions()[0].document.roots[0]._id)\";\n",
              "      cell.notebook.kernel.execute(cmd_clean, {\n",
              "        iopub: {\n",
              "          output: function(msg) {\n",
              "            const id = msg.content.text.trim()\n",
              "            drop(id)\n",
              "          }\n",
              "        }\n",
              "      });\n",
              "      // Destroy server and session\n",
              "      const cmd_destroy = \"import bokeh.io.notebook as ion; ion.destroy_server('\" + server_id + \"')\";\n",
              "      cell.notebook.kernel.execute(cmd_destroy);\n",
              "    }\n",
              "  }\n",
              "\n",
              "  /**\n",
              "   * Handle when a new output is added\n",
              "   */\n",
              "  function handleAddOutput(event, handle) {\n",
              "    const output_area = handle.output_area;\n",
              "    const output = handle.output;\n",
              "\n",
              "    // limit handleAddOutput to display_data with EXEC_MIME_TYPE content only\n",
              "    if ((output.output_type != \"display_data\") || (!Object.prototype.hasOwnProperty.call(output.data, EXEC_MIME_TYPE))) {\n",
              "      return\n",
              "    }\n",
              "\n",
              "    const toinsert = output_area.element.find(\".\" + CLASS_NAME.split(' ')[0]);\n",
              "\n",
              "    if (output.metadata[EXEC_MIME_TYPE][\"id\"] !== undefined) {\n",
              "      toinsert[toinsert.length - 1].firstChild.textContent = output.data[JS_MIME_TYPE];\n",
              "      // store reference to embed id on output_area\n",
              "      output_area._bokeh_element_id = output.metadata[EXEC_MIME_TYPE][\"id\"];\n",
              "    }\n",
              "    if (output.metadata[EXEC_MIME_TYPE][\"server_id\"] !== undefined) {\n",
              "      const bk_div = document.createElement(\"div\");\n",
              "      bk_div.innerHTML = output.data[HTML_MIME_TYPE];\n",
              "      const script_attrs = bk_div.children[0].attributes;\n",
              "      for (let i = 0; i < script_attrs.length; i++) {\n",
              "        toinsert[toinsert.length - 1].firstChild.setAttribute(script_attrs[i].name, script_attrs[i].value);\n",
              "        toinsert[toinsert.length - 1].firstChild.textContent = bk_div.children[0].textContent\n",
              "      }\n",
              "      // store reference to server id on output_area\n",
              "      output_area._bokeh_server_id = output.metadata[EXEC_MIME_TYPE][\"server_id\"];\n",
              "    }\n",
              "  }\n",
              "\n",
              "  function register_renderer(events, OutputArea) {\n",
              "\n",
              "    function append_mime(data, metadata, element) {\n",
              "      // create a DOM node to render to\n",
              "      const toinsert = this.create_output_subarea(\n",
              "        metadata,\n",
              "        CLASS_NAME,\n",
              "        EXEC_MIME_TYPE\n",
              "      );\n",
              "      this.keyboard_manager.register_events(toinsert);\n",
              "      // Render to node\n",
              "      const props = {data: data, metadata: metadata[EXEC_MIME_TYPE]};\n",
              "      render(props, toinsert[toinsert.length - 1]);\n",
              "      element.append(toinsert);\n",
              "      return toinsert\n",
              "    }\n",
              "\n",
              "    /* Handle when an output is cleared or removed */\n",
              "    events.on('clear_output.CodeCell', handleClearOutput);\n",
              "    events.on('delete.Cell', handleClearOutput);\n",
              "\n",
              "    /* Handle when a new output is added */\n",
              "    events.on('output_added.OutputArea', handleAddOutput);\n",
              "\n",
              "    /**\n",
              "     * Register the mime type and append_mime function with output_area\n",
              "     */\n",
              "    OutputArea.prototype.register_mime_type(EXEC_MIME_TYPE, append_mime, {\n",
              "      /* Is output safe? */\n",
              "      safe: true,\n",
              "      /* Index of renderer in `output_area.display_order` */\n",
              "      index: 0\n",
              "    });\n",
              "  }\n",
              "\n",
              "  // register the mime type if in Jupyter Notebook environment and previously unregistered\n",
              "  if (root.Jupyter !== undefined) {\n",
              "    const events = require('base/js/events');\n",
              "    const OutputArea = require('notebook/js/outputarea').OutputArea;\n",
              "\n",
              "    if (OutputArea.prototype.mime_types().indexOf(EXEC_MIME_TYPE) == -1) {\n",
              "      register_renderer(events, OutputArea);\n",
              "    }\n",
              "  }\n",
              "  if (typeof (root._bokeh_timeout) === \"undefined\" || force === true) {\n",
              "    root._bokeh_timeout = Date.now() + 5000;\n",
              "    root._bokeh_failed_load = false;\n",
              "  }\n",
              "\n",
              "  const NB_LOAD_WARNING = {'data': {'text/html':\n",
              "     \"<div style='background-color: #fdd'>\\n\"+\n",
              "     \"<p>\\n\"+\n",
              "     \"BokehJS does not appear to have successfully loaded. If loading BokehJS from CDN, this \\n\"+\n",
              "     \"may be due to a slow or bad network connection. Possible fixes:\\n\"+\n",
              "     \"</p>\\n\"+\n",
              "     \"<ul>\\n\"+\n",
              "     \"<li>re-rerun `output_notebook()` to attempt to load from CDN again, or</li>\\n\"+\n",
              "     \"<li>use INLINE resources instead, as so:</li>\\n\"+\n",
              "     \"</ul>\\n\"+\n",
              "     \"<code>\\n\"+\n",
              "     \"from bokeh.resources import INLINE\\n\"+\n",
              "     \"output_notebook(resources=INLINE)\\n\"+\n",
              "     \"</code>\\n\"+\n",
              "     \"</div>\"}};\n",
              "\n",
              "  function display_loaded() {\n",
              "    const el = document.getElementById(null);\n",
              "    if (el != null) {\n",
              "      el.textContent = \"BokehJS is loading...\";\n",
              "    }\n",
              "    if (root.Bokeh !== undefined) {\n",
              "      if (el != null) {\n",
              "        el.textContent = \"BokehJS \" + root.Bokeh.version + \" successfully loaded.\";\n",
              "      }\n",
              "    } else if (Date.now() < root._bokeh_timeout) {\n",
              "      setTimeout(display_loaded, 100)\n",
              "    }\n",
              "  }\n",
              "\n",
              "  function run_callbacks() {\n",
              "    try {\n",
              "      root._bokeh_onload_callbacks.forEach(function(callback) {\n",
              "        if (callback != null)\n",
              "          callback();\n",
              "      });\n",
              "    } finally {\n",
              "      delete root._bokeh_onload_callbacks\n",
              "    }\n",
              "    console.debug(\"Bokeh: all callbacks have finished\");\n",
              "  }\n",
              "\n",
              "  function load_libs(css_urls, js_urls, callback) {\n",
              "    if (css_urls == null) css_urls = [];\n",
              "    if (js_urls == null) js_urls = [];\n",
              "\n",
              "    root._bokeh_onload_callbacks.push(callback);\n",
              "    if (root._bokeh_is_loading > 0) {\n",
              "      console.debug(\"Bokeh: BokehJS is being loaded, scheduling callback at\", now());\n",
              "      return null;\n",
              "    }\n",
              "    if (js_urls == null || js_urls.length === 0) {\n",
              "      run_callbacks();\n",
              "      return null;\n",
              "    }\n",
              "    console.debug(\"Bokeh: BokehJS not loaded, scheduling load and callback at\", now());\n",
              "    root._bokeh_is_loading = css_urls.length + js_urls.length;\n",
              "\n",
              "    function on_load() {\n",
              "      root._bokeh_is_loading--;\n",
              "      if (root._bokeh_is_loading === 0) {\n",
              "        console.debug(\"Bokeh: all BokehJS libraries/stylesheets loaded\");\n",
              "        run_callbacks()\n",
              "      }\n",
              "    }\n",
              "\n",
              "    function on_error(url) {\n",
              "      console.error(\"failed to load \" + url);\n",
              "    }\n",
              "\n",
              "    for (let i = 0; i < css_urls.length; i++) {\n",
              "      const url = css_urls[i];\n",
              "      const element = document.createElement(\"link\");\n",
              "      element.onload = on_load;\n",
              "      element.onerror = on_error.bind(null, url);\n",
              "      element.rel = \"stylesheet\";\n",
              "      element.type = \"text/css\";\n",
              "      element.href = url;\n",
              "      console.debug(\"Bokeh: injecting link tag for BokehJS stylesheet: \", url);\n",
              "      document.body.appendChild(element);\n",
              "    }\n",
              "\n",
              "    for (let i = 0; i < js_urls.length; i++) {\n",
              "      const url = js_urls[i];\n",
              "      const element = document.createElement('script');\n",
              "      element.onload = on_load;\n",
              "      element.onerror = on_error.bind(null, url);\n",
              "      element.async = false;\n",
              "      element.src = url;\n",
              "      console.debug(\"Bokeh: injecting script tag for BokehJS library: \", url);\n",
              "      document.head.appendChild(element);\n",
              "    }\n",
              "  };\n",
              "\n",
              "  function inject_raw_css(css) {\n",
              "    const element = document.createElement(\"style\");\n",
              "    element.appendChild(document.createTextNode(css));\n",
              "    document.body.appendChild(element);\n",
              "  }\n",
              "\n",
              "  const js_urls = [\"https://cdn.bokeh.org/bokeh/release/bokeh-3.3.2.min.js\", \"https://cdn.bokeh.org/bokeh/release/bokeh-gl-3.3.2.min.js\", \"https://cdn.bokeh.org/bokeh/release/bokeh-widgets-3.3.2.min.js\", \"https://cdn.bokeh.org/bokeh/release/bokeh-tables-3.3.2.min.js\", \"https://cdn.bokeh.org/bokeh/release/bokeh-mathjax-3.3.2.min.js\"];\n",
              "  const css_urls = [];\n",
              "\n",
              "  const inline_js = [    function(Bokeh) {\n",
              "      Bokeh.set_log_level(\"info\");\n",
              "    },\n",
              "function(Bokeh) {\n",
              "    }\n",
              "  ];\n",
              "\n",
              "  function run_inline_js() {\n",
              "    if (root.Bokeh !== undefined || force === true) {\n",
              "          for (let i = 0; i < inline_js.length; i++) {\n",
              "      inline_js[i].call(root, root.Bokeh);\n",
              "    }\n",
              "} else if (Date.now() < root._bokeh_timeout) {\n",
              "      setTimeout(run_inline_js, 100);\n",
              "    } else if (!root._bokeh_failed_load) {\n",
              "      console.log(\"Bokeh: BokehJS failed to load within specified timeout.\");\n",
              "      root._bokeh_failed_load = true;\n",
              "    } else if (force !== true) {\n",
              "      const cell = $(document.getElementById(null)).parents('.cell').data().cell;\n",
              "      cell.output_area.append_execute_result(NB_LOAD_WARNING)\n",
              "    }\n",
              "  }\n",
              "\n",
              "  if (root._bokeh_is_loading === 0) {\n",
              "    console.debug(\"Bokeh: BokehJS loaded, going straight to plotting\");\n",
              "    run_inline_js();\n",
              "  } else {\n",
              "    load_libs(css_urls, js_urls, function() {\n",
              "      console.debug(\"Bokeh: BokehJS plotting callback run at\", now());\n",
              "      run_inline_js();\n",
              "    });\n",
              "  }\n",
              "}(window));"
            ],
            "application/vnd.bokehjs_load.v0+json": "(function(root) {\n  function now() {\n    return new Date();\n  }\n\n  const force = true;\n\n  if (typeof root._bokeh_onload_callbacks === \"undefined\" || force === true) {\n    root._bokeh_onload_callbacks = [];\n    root._bokeh_is_loading = undefined;\n  }\n\n\n  if (typeof (root._bokeh_timeout) === \"undefined\" || force === true) {\n    root._bokeh_timeout = Date.now() + 5000;\n    root._bokeh_failed_load = false;\n  }\n\n  const NB_LOAD_WARNING = {'data': {'text/html':\n     \"<div style='background-color: #fdd'>\\n\"+\n     \"<p>\\n\"+\n     \"BokehJS does not appear to have successfully loaded. If loading BokehJS from CDN, this \\n\"+\n     \"may be due to a slow or bad network connection. Possible fixes:\\n\"+\n     \"</p>\\n\"+\n     \"<ul>\\n\"+\n     \"<li>re-rerun `output_notebook()` to attempt to load from CDN again, or</li>\\n\"+\n     \"<li>use INLINE resources instead, as so:</li>\\n\"+\n     \"</ul>\\n\"+\n     \"<code>\\n\"+\n     \"from bokeh.resources import INLINE\\n\"+\n     \"output_notebook(resources=INLINE)\\n\"+\n     \"</code>\\n\"+\n     \"</div>\"}};\n\n  function display_loaded() {\n    const el = document.getElementById(null);\n    if (el != null) {\n      el.textContent = \"BokehJS is loading...\";\n    }\n    if (root.Bokeh !== undefined) {\n      if (el != null) {\n        el.textContent = \"BokehJS \" + root.Bokeh.version + \" successfully loaded.\";\n      }\n    } else if (Date.now() < root._bokeh_timeout) {\n      setTimeout(display_loaded, 100)\n    }\n  }\n\n  function run_callbacks() {\n    try {\n      root._bokeh_onload_callbacks.forEach(function(callback) {\n        if (callback != null)\n          callback();\n      });\n    } finally {\n      delete root._bokeh_onload_callbacks\n    }\n    console.debug(\"Bokeh: all callbacks have finished\");\n  }\n\n  function load_libs(css_urls, js_urls, callback) {\n    if (css_urls == null) css_urls = [];\n    if (js_urls == null) js_urls = [];\n\n    root._bokeh_onload_callbacks.push(callback);\n    if (root._bokeh_is_loading > 0) {\n      console.debug(\"Bokeh: BokehJS is being loaded, scheduling callback at\", now());\n      return null;\n    }\n    if (js_urls == null || js_urls.length === 0) {\n      run_callbacks();\n      return null;\n    }\n    console.debug(\"Bokeh: BokehJS not loaded, scheduling load and callback at\", now());\n    root._bokeh_is_loading = css_urls.length + js_urls.length;\n\n    function on_load() {\n      root._bokeh_is_loading--;\n      if (root._bokeh_is_loading === 0) {\n        console.debug(\"Bokeh: all BokehJS libraries/stylesheets loaded\");\n        run_callbacks()\n      }\n    }\n\n    function on_error(url) {\n      console.error(\"failed to load \" + url);\n    }\n\n    for (let i = 0; i < css_urls.length; i++) {\n      const url = css_urls[i];\n      const element = document.createElement(\"link\");\n      element.onload = on_load;\n      element.onerror = on_error.bind(null, url);\n      element.rel = \"stylesheet\";\n      element.type = \"text/css\";\n      element.href = url;\n      console.debug(\"Bokeh: injecting link tag for BokehJS stylesheet: \", url);\n      document.body.appendChild(element);\n    }\n\n    for (let i = 0; i < js_urls.length; i++) {\n      const url = js_urls[i];\n      const element = document.createElement('script');\n      element.onload = on_load;\n      element.onerror = on_error.bind(null, url);\n      element.async = false;\n      element.src = url;\n      console.debug(\"Bokeh: injecting script tag for BokehJS library: \", url);\n      document.head.appendChild(element);\n    }\n  };\n\n  function inject_raw_css(css) {\n    const element = document.createElement(\"style\");\n    element.appendChild(document.createTextNode(css));\n    document.body.appendChild(element);\n  }\n\n  const js_urls = [\"https://cdn.bokeh.org/bokeh/release/bokeh-3.3.2.min.js\", \"https://cdn.bokeh.org/bokeh/release/bokeh-gl-3.3.2.min.js\", \"https://cdn.bokeh.org/bokeh/release/bokeh-widgets-3.3.2.min.js\", \"https://cdn.bokeh.org/bokeh/release/bokeh-tables-3.3.2.min.js\", \"https://cdn.bokeh.org/bokeh/release/bokeh-mathjax-3.3.2.min.js\"];\n  const css_urls = [];\n\n  const inline_js = [    function(Bokeh) {\n      Bokeh.set_log_level(\"info\");\n    },\nfunction(Bokeh) {\n    }\n  ];\n\n  function run_inline_js() {\n    if (root.Bokeh !== undefined || force === true) {\n          for (let i = 0; i < inline_js.length; i++) {\n      inline_js[i].call(root, root.Bokeh);\n    }\n} else if (Date.now() < root._bokeh_timeout) {\n      setTimeout(run_inline_js, 100);\n    } else if (!root._bokeh_failed_load) {\n      console.log(\"Bokeh: BokehJS failed to load within specified timeout.\");\n      root._bokeh_failed_load = true;\n    } else if (force !== true) {\n      const cell = $(document.getElementById(null)).parents('.cell').data().cell;\n      cell.output_area.append_execute_result(NB_LOAD_WARNING)\n    }\n  }\n\n  if (root._bokeh_is_loading === 0) {\n    console.debug(\"Bokeh: BokehJS loaded, going straight to plotting\");\n    run_inline_js();\n  } else {\n    load_libs(css_urls, js_urls, function() {\n      console.debug(\"Bokeh: BokehJS plotting callback run at\", now());\n      run_inline_js();\n    });\n  }\n}(window));"
          },
          "metadata": {}
        },
        {
          "output_type": "display_data",
          "data": {
            "text/html": [
              "\n",
              "  <div id=\"a9e748b0-af64-45b1-90f1-8d25ae35f20f\" data-root-id=\"p2149\" style=\"display: contents;\"></div>\n"
            ]
          },
          "metadata": {}
        },
        {
          "output_type": "display_data",
          "data": {
            "application/javascript": [
              "(function(root) {\n",
              "  function embed_document(root) {\n",
              "  const docs_json = {\"ef9841f0-eadf-4499-a34d-c3585cdfc3ec\":{\"version\":\"3.3.2\",\"title\":\"Bokeh Application\",\"roots\":[{\"type\":\"object\",\"name\":\"Figure\",\"id\":\"p2149\",\"attributes\":{\"x_range\":{\"type\":\"object\",\"name\":\"Range1d\",\"id\":\"p2158\",\"attributes\":{\"end\":11}},\"y_range\":{\"type\":\"object\",\"name\":\"Range1d\",\"id\":\"p2159\",\"attributes\":{\"end\":12}},\"x_scale\":{\"type\":\"object\",\"name\":\"LinearScale\",\"id\":\"p2160\"},\"y_scale\":{\"type\":\"object\",\"name\":\"LinearScale\",\"id\":\"p2161\"},\"title\":{\"type\":\"object\",\"name\":\"Title\",\"id\":\"p2156\"},\"renderers\":[{\"type\":\"object\",\"name\":\"GlyphRenderer\",\"id\":\"p2174\",\"attributes\":{\"data_source\":{\"type\":\"object\",\"name\":\"ColumnDataSource\",\"id\":\"p2162\",\"attributes\":{\"selected\":{\"type\":\"object\",\"name\":\"Selection\",\"id\":\"p2163\",\"attributes\":{\"indices\":[],\"line_indices\":[]}},\"selection_policy\":{\"type\":\"object\",\"name\":\"UnionRenderers\",\"id\":\"p2164\"},\"data\":{\"type\":\"map\",\"entries\":[[\"image\",[{\"type\":\"ndarray\",\"array\":{\"type\":\"bytes\",\"data\":\"Gn6YPiZrpztzzaI8lJ1GOg1dijuwV0o7StCWO7QspjysfJA91dICPkxP5D62v0M9Ohk6OfIiLjtbygA5zs1COm0nKzzj0RM7ogkWPBvscj2XooY+3LgaP6HeSDzZf603d2STOh+0FDmosbo5ZWBWPPtCHT1mbKo8ODL5PbphLz4M8R4/E2w9O6VmVzcYD4I77+PYOPGOwjpjOSg7jy2WO+A6Ej0ZBH0+hpf5PgtCWz7TPOs91KMLO09uvTsS5Qs5fqiBO7HIkDsd3Yk9zpfcPVdMoD6ehGw+TjkZPkvk8TtKdVI5oJpfOkf6iDgWq0U7JPj3PDYWuD4xjv49xxkKPlhXTT43UQ4+z98NPEUBCzqRFJA7tbTlOuFT+jshhIg+NoMZP5d0MDxmcY09YYGuPCUxHTweWDI7XQE9OBljijs1KTo7xqNRPpym7T7/S2k+kzYKPPDn4zwh0jQ9GdJVPDgmnzw0bNM6o6kAO7mzPzsMh7Y8FMo9PkqNjj6laLY9rYVwPokd/T160iU9CJrNO5v3xjtD5088RXj4PGDJCj4U7Yg+99qFPij1qT2boRY+G1sfPXkYODzVpgo8mqe8PKTu3TwQASg+EiYTPvNywz4hjB4+6LzwPCaQCz3B9448JniEPNWmCjyap7w8pO7dPBABKD4SJhM+83LDPiGMHj7ovPA8JpALPcH3jjwmeIQ8\"},\"shape\":[12,11],\"dtype\":\"float32\",\"order\":\"little\"}]]]}}},\"view\":{\"type\":\"object\",\"name\":\"CDSView\",\"id\":\"p2175\",\"attributes\":{\"filter\":{\"type\":\"object\",\"name\":\"AllIndices\",\"id\":\"p2176\"}}},\"glyph\":{\"type\":\"object\",\"name\":\"Image\",\"id\":\"p2165\",\"attributes\":{\"x\":{\"type\":\"value\",\"value\":0},\"y\":{\"type\":\"value\",\"value\":0},\"dw\":{\"type\":\"value\",\"value\":11},\"dh\":{\"type\":\"value\",\"value\":12},\"image\":{\"type\":\"field\",\"field\":\"image\"},\"color_mapper\":{\"type\":\"object\",\"name\":\"LinearColorMapper\",\"id\":\"p2166\",\"attributes\":{\"palette\":[\"#000000\",\"#252525\",\"#525252\",\"#737373\",\"#969696\",\"#bdbdbd\",\"#d9d9d9\",\"#f0f0f0\",\"#ffffff\"]}}}},\"nonselection_glyph\":{\"type\":\"object\",\"name\":\"Image\",\"id\":\"p2168\",\"attributes\":{\"x\":{\"type\":\"value\",\"value\":0},\"y\":{\"type\":\"value\",\"value\":0},\"dw\":{\"type\":\"value\",\"value\":11},\"dh\":{\"type\":\"value\",\"value\":12},\"global_alpha\":{\"type\":\"value\",\"value\":0.1},\"image\":{\"type\":\"field\",\"field\":\"image\"},\"color_mapper\":{\"type\":\"object\",\"name\":\"LinearColorMapper\",\"id\":\"p2169\",\"attributes\":{\"palette\":[\"#000000\",\"#252525\",\"#525252\",\"#737373\",\"#969696\",\"#bdbdbd\",\"#d9d9d9\",\"#f0f0f0\",\"#ffffff\"]}}}},\"muted_glyph\":{\"type\":\"object\",\"name\":\"Image\",\"id\":\"p2171\",\"attributes\":{\"x\":{\"type\":\"value\",\"value\":0},\"y\":{\"type\":\"value\",\"value\":0},\"dw\":{\"type\":\"value\",\"value\":11},\"dh\":{\"type\":\"value\",\"value\":12},\"global_alpha\":{\"type\":\"value\",\"value\":0.2},\"image\":{\"type\":\"field\",\"field\":\"image\"},\"color_mapper\":{\"type\":\"object\",\"name\":\"LinearColorMapper\",\"id\":\"p2172\",\"attributes\":{\"palette\":[\"#000000\",\"#252525\",\"#525252\",\"#737373\",\"#969696\",\"#bdbdbd\",\"#d9d9d9\",\"#f0f0f0\",\"#ffffff\"]}}}}}}],\"toolbar\":{\"type\":\"object\",\"name\":\"Toolbar\",\"id\":\"p2157\"},\"left\":[{\"type\":\"object\",\"name\":\"LinearAxis\",\"id\":\"p2182\",\"attributes\":{\"ticker\":{\"type\":\"object\",\"name\":\"FixedTicker\",\"id\":\"p2186\",\"attributes\":{\"ticks\":{\"type\":\"ndarray\",\"array\":{\"type\":\"bytes\",\"data\":\"AAAAAAAA4D8AAAAAAAD4PwAAAAAAAARAAAAAAAAADEAAAAAAAAASQAAAAAAAABZAAAAAAAAAGkAAAAAAAAAeQAAAAAAAACFAAAAAAAAAI0AAAAAAAAAlQAAAAAAAACdA\"},\"shape\":[12],\"dtype\":\"float64\",\"order\":\"little\"},\"minor_ticks\":[]}},\"formatter\":{\"type\":\"object\",\"name\":\"BasicTickFormatter\",\"id\":\"p2184\"},\"axis_label\":\"translation tokens\",\"major_label_overrides\":{\"type\":\"map\",\"entries\":[[0.5,\"_EOS_\"],[1.5,\".\"],[2.5,\"lounge\"],[3.5,\"shared\"],[4.5,\"a\"],[5.5,\"and\"],[6.5,\"kitchen\"],[7.5,\"shared\"],[8.5,\"a\"],[9.5,\"is\"],[10.5,\"there\"],[11.5,\"_BOS_\"]]},\"major_label_policy\":{\"type\":\"object\",\"name\":\"AllLabels\",\"id\":\"p2185\"}}}],\"above\":[{\"type\":\"object\",\"name\":\"LinearAxis\",\"id\":\"p2177\",\"attributes\":{\"ticker\":{\"type\":\"object\",\"name\":\"FixedTicker\",\"id\":\"p2181\",\"attributes\":{\"ticks\":{\"type\":\"ndarray\",\"array\":{\"type\":\"bytes\",\"data\":\"AAAAAAAA4D8AAAAAAAD4PwAAAAAAAARAAAAAAAAADEAAAAAAAAASQAAAAAAAABZAAAAAAAAAGkAAAAAAAAAeQAAAAAAAACFAAAAAAAAAI0AAAAAAAAAlQA==\"},\"shape\":[11],\"dtype\":\"float64\",\"order\":\"little\"},\"minor_ticks\":[]}},\"formatter\":{\"type\":\"object\",\"name\":\"BasicTickFormatter\",\"id\":\"p2179\"},\"axis_label\":\"source tokens\",\"major_label_orientation\":45,\"major_label_overrides\":{\"type\":\"map\",\"entries\":[[0.5,\"_BOS_\"],[1.5,\"\\u0432\"],[2.5,\"\\u0440\\u0430\\u0441\\u043f\\u043e\\u0440\\u044f\\u0436\\u0435\\u043d\\u0438\\u0438\"],[3.5,\"\\u0433\\u043e\\u0441\\u0442\\u0435\\u0439\"],[4.5,\"\\u043e\\u0431\\u0449\\u0430\\u044f\"],[5.5,\"\\u043a\\u0443\\u0445\\u043d\\u044f\"],[6.5,\"\\u0438\"],[7.5,\"\\u043e\\u0431\\u0449\\u0430\\u044f\"],[8.5,\"\\u0433\\u043e\\u0441\\u0442\\u0438\\u043d\\u0430\\u044f\"],[9.5,\".\"],[10.5,\"_EOS_\"]]},\"major_label_policy\":{\"type\":\"object\",\"name\":\"AllLabels\",\"id\":\"p2180\"}}}]}}]}};\n",
              "  const render_items = [{\"docid\":\"ef9841f0-eadf-4499-a34d-c3585cdfc3ec\",\"roots\":{\"p2149\":\"a9e748b0-af64-45b1-90f1-8d25ae35f20f\"},\"root_ids\":[\"p2149\"]}];\n",
              "  root.Bokeh.embed.embed_items_notebook(docs_json, render_items);\n",
              "  }\n",
              "  if (root.Bokeh !== undefined) {\n",
              "    embed_document(root);\n",
              "  } else {\n",
              "    let attempts = 0;\n",
              "    const timer = setInterval(function(root) {\n",
              "      if (root.Bokeh !== undefined) {\n",
              "        clearInterval(timer);\n",
              "        embed_document(root);\n",
              "      } else {\n",
              "        attempts++;\n",
              "        if (attempts > 100) {\n",
              "          clearInterval(timer);\n",
              "          console.log(\"Bokeh: ERROR: Unable to run BokehJS code because BokehJS library is missing\");\n",
              "        }\n",
              "      }\n",
              "    }, 10, root)\n",
              "  }\n",
              "})(window);"
            ],
            "application/vnd.bokehjs_exec.v0+json": ""
          },
          "metadata": {
            "application/vnd.bokehjs_exec.v0+json": {
              "id": "p2149"
            }
          }
        },
        {
          "output_type": "display_data",
          "data": {
            "text/html": [
              "\n",
              "  <div id=\"bb20c5e7-6d73-47df-ad1f-2f4df35fa167\" data-root-id=\"p2190\" style=\"display: contents;\"></div>\n"
            ]
          },
          "metadata": {}
        },
        {
          "output_type": "display_data",
          "data": {
            "application/javascript": [
              "(function(root) {\n",
              "  function embed_document(root) {\n",
              "  const docs_json = {\"aa5246cc-d48a-4f8f-9983-ba101a19fbb9\":{\"version\":\"3.3.2\",\"title\":\"Bokeh Application\",\"roots\":[{\"type\":\"object\",\"name\":\"Figure\",\"id\":\"p2190\",\"attributes\":{\"x_range\":{\"type\":\"object\",\"name\":\"Range1d\",\"id\":\"p2199\",\"attributes\":{\"end\":13}},\"y_range\":{\"type\":\"object\",\"name\":\"Range1d\",\"id\":\"p2200\",\"attributes\":{\"end\":13}},\"x_scale\":{\"type\":\"object\",\"name\":\"LinearScale\",\"id\":\"p2201\"},\"y_scale\":{\"type\":\"object\",\"name\":\"LinearScale\",\"id\":\"p2202\"},\"title\":{\"type\":\"object\",\"name\":\"Title\",\"id\":\"p2197\"},\"renderers\":[{\"type\":\"object\",\"name\":\"GlyphRenderer\",\"id\":\"p2215\",\"attributes\":{\"data_source\":{\"type\":\"object\",\"name\":\"ColumnDataSource\",\"id\":\"p2203\",\"attributes\":{\"selected\":{\"type\":\"object\",\"name\":\"Selection\",\"id\":\"p2204\",\"attributes\":{\"indices\":[],\"line_indices\":[]}},\"selection_policy\":{\"type\":\"object\",\"name\":\"UnionRenderers\",\"id\":\"p2205\"},\"data\":{\"type\":\"map\",\"entries\":[[\"image\",[{\"type\":\"ndarray\",\"array\":{\"type\":\"bytes\",\"data\":\"w88lP3gGJj3hdg8+HUQtPDUl0DrWpFA8pkUnO5KPUjpvPqQ6UIf9Ol7lGD11B4w9dmUNPcq7GT+Nd6s7JmkxPKjv0TzwUiM8WFsUPo/UnT2weoc9E/uhOuhsgDs8+e47OeNVPGIsDD19/0w/J5qFPbP/0TwKI3I9TCJKPOlrPDyW4pg7gTg7OwiY3Tktmkg5X5CbOdm3VzuXHGA8gsU6P/jj0D01BmQ9d+fbPOD6qDwtqrI8iMmFPH4TUTxoFwE7z2viOdFsZjrMhQQ7vMUUPDsKcj4wFEA+I/i3PaoksTxYmQ87n3RPO24ZWDu/qIA72YRXOX7TnzxTsMs9pCFqPRQnjT48/K45u1BZOEwVKjrNo4Q3J2ntNpynNjmCkr03hr8dNyAhBzZl8go8LmduP+Sgbj3rLkA6IpubPJPkzTkBkeM6Nbn9OYSahTlc0Ng6unSiOQbkbTobFuo62TfVPsbg+T5sx3U9xU0TPODfTTtaMFw6nVFROuyVuzo0ZE09afcJPkbttT23JZo+g0n2PXFYfD16fnQ9B6aNPZfH3T3bo4o7gWD5Oh4FgjpFdak6AfX/OiR2BD1FMDw81boxPVOi/zyZBaA+9+egPr+hLz6hQZU9OU0gOlXXmzgRRis50zgsO2ZgyjxITUE90xr2PZl2FD+pRZE8LxrPPMr7Ejwmlww924cNPjznyzgc2ZY5dMfTOWz7qTsm+P49hentPfT6hT6XUbc+KwBCPD7ekzyjhhM8M1zEPG3vkD0Y7p44frGVObh9iTjOICk7Jm4yPiRmPT6wRps+kUCnPgyCwTuPdTk6HtZ4OY5G6zlkbA86GO6eOH6xlTm4fYk4ziApOyZuMj4kZj0+sEabPpFApz4MgsE7j3U5Oh7WeDmORus5ZGwPOg==\"},\"shape\":[13,13],\"dtype\":\"float32\",\"order\":\"little\"}]]]}}},\"view\":{\"type\":\"object\",\"name\":\"CDSView\",\"id\":\"p2216\",\"attributes\":{\"filter\":{\"type\":\"object\",\"name\":\"AllIndices\",\"id\":\"p2217\"}}},\"glyph\":{\"type\":\"object\",\"name\":\"Image\",\"id\":\"p2206\",\"attributes\":{\"x\":{\"type\":\"value\",\"value\":0},\"y\":{\"type\":\"value\",\"value\":0},\"dw\":{\"type\":\"value\",\"value\":13},\"dh\":{\"type\":\"value\",\"value\":13},\"image\":{\"type\":\"field\",\"field\":\"image\"},\"color_mapper\":{\"type\":\"object\",\"name\":\"LinearColorMapper\",\"id\":\"p2207\",\"attributes\":{\"palette\":[\"#000000\",\"#252525\",\"#525252\",\"#737373\",\"#969696\",\"#bdbdbd\",\"#d9d9d9\",\"#f0f0f0\",\"#ffffff\"]}}}},\"nonselection_glyph\":{\"type\":\"object\",\"name\":\"Image\",\"id\":\"p2209\",\"attributes\":{\"x\":{\"type\":\"value\",\"value\":0},\"y\":{\"type\":\"value\",\"value\":0},\"dw\":{\"type\":\"value\",\"value\":13},\"dh\":{\"type\":\"value\",\"value\":13},\"global_alpha\":{\"type\":\"value\",\"value\":0.1},\"image\":{\"type\":\"field\",\"field\":\"image\"},\"color_mapper\":{\"type\":\"object\",\"name\":\"LinearColorMapper\",\"id\":\"p2210\",\"attributes\":{\"palette\":[\"#000000\",\"#252525\",\"#525252\",\"#737373\",\"#969696\",\"#bdbdbd\",\"#d9d9d9\",\"#f0f0f0\",\"#ffffff\"]}}}},\"muted_glyph\":{\"type\":\"object\",\"name\":\"Image\",\"id\":\"p2212\",\"attributes\":{\"x\":{\"type\":\"value\",\"value\":0},\"y\":{\"type\":\"value\",\"value\":0},\"dw\":{\"type\":\"value\",\"value\":13},\"dh\":{\"type\":\"value\",\"value\":13},\"global_alpha\":{\"type\":\"value\",\"value\":0.2},\"image\":{\"type\":\"field\",\"field\":\"image\"},\"color_mapper\":{\"type\":\"object\",\"name\":\"LinearColorMapper\",\"id\":\"p2213\",\"attributes\":{\"palette\":[\"#000000\",\"#252525\",\"#525252\",\"#737373\",\"#969696\",\"#bdbdbd\",\"#d9d9d9\",\"#f0f0f0\",\"#ffffff\"]}}}}}}],\"toolbar\":{\"type\":\"object\",\"name\":\"Toolbar\",\"id\":\"p2198\"},\"left\":[{\"type\":\"object\",\"name\":\"LinearAxis\",\"id\":\"p2223\",\"attributes\":{\"ticker\":{\"type\":\"object\",\"name\":\"FixedTicker\",\"id\":\"p2227\",\"attributes\":{\"ticks\":{\"type\":\"ndarray\",\"array\":{\"type\":\"bytes\",\"data\":\"AAAAAAAA4D8AAAAAAAD4PwAAAAAAAARAAAAAAAAADEAAAAAAAAASQAAAAAAAABZAAAAAAAAAGkAAAAAAAAAeQAAAAAAAACFAAAAAAAAAI0AAAAAAAAAlQAAAAAAAACdAAAAAAAAAKUA=\"},\"shape\":[13],\"dtype\":\"float64\",\"order\":\"little\"},\"minor_ticks\":[]}},\"formatter\":{\"type\":\"object\",\"name\":\"BasicTickFormatter\",\"id\":\"p2225\"},\"axis_label\":\"translation tokens\",\"major_label_overrides\":{\"type\":\"map\",\"entries\":[[0.5,\"_EOS_\"],[1.5,\".\"],[2.5,\"property\"],[3.5,\"the\"],[4.5,\"from\"],[5.5,\"km\"],[6.5,\"26\"],[7.5,\"is\"],[8.5,\"thessaloniki\"],[9.5,\"of\"],[10.5,\"town\"],[11.5,\"the\"],[12.5,\"_BOS_\"]]},\"major_label_policy\":{\"type\":\"object\",\"name\":\"AllLabels\",\"id\":\"p2226\"}}}],\"above\":[{\"type\":\"object\",\"name\":\"LinearAxis\",\"id\":\"p2218\",\"attributes\":{\"ticker\":{\"type\":\"object\",\"name\":\"FixedTicker\",\"id\":\"p2222\",\"attributes\":{\"ticks\":{\"type\":\"ndarray\",\"array\":{\"type\":\"bytes\",\"data\":\"AAAAAAAA4D8AAAAAAAD4PwAAAAAAAARAAAAAAAAADEAAAAAAAAASQAAAAAAAABZAAAAAAAAAGkAAAAAAAAAeQAAAAAAAACFAAAAAAAAAI0AAAAAAAAAlQAAAAAAAACdAAAAAAAAAKUA=\"},\"shape\":[13],\"dtype\":\"float64\",\"order\":\"little\"},\"minor_ticks\":[]}},\"formatter\":{\"type\":\"object\",\"name\":\"BasicTickFormatter\",\"id\":\"p2220\"},\"axis_label\":\"source tokens\",\"major_label_orientation\":45,\"major_label_overrides\":{\"type\":\"map\",\"entries\":[[0.5,\"_BOS_\"],[1.5,\"\\u0440\\u0430\\u0441\\u0441\\u0442\\u043e\\u044f\\u043d\\u0438\\u0435\"],[2.5,\"\\u0434\\u043e\"],[3.5,\"\\u0433\\u043e\\u0440\\u043e\\u0434\\u0430\"],[4.5,\"\\u043a\\u0438@@\"],[5.5,\"\\u0441\\u0441\\u0438@@\"],[6.5,\"\\u043c@@\"],[7.5,\"\\u043c\\u0438\"],[8.5,\"\\u0441\\u043e\\u0441\\u0442\\u0430\\u0432\\u043b\\u044f\\u0435\\u0442\"],[9.5,\"26\"],[10.5,\"\\u043a\\u043c\"],[11.5,\".\"],[12.5,\"_EOS_\"]]},\"major_label_policy\":{\"type\":\"object\",\"name\":\"AllLabels\",\"id\":\"p2221\"}}}]}}]}};\n",
              "  const render_items = [{\"docid\":\"aa5246cc-d48a-4f8f-9983-ba101a19fbb9\",\"roots\":{\"p2190\":\"bb20c5e7-6d73-47df-ad1f-2f4df35fa167\"},\"root_ids\":[\"p2190\"]}];\n",
              "  root.Bokeh.embed.embed_items_notebook(docs_json, render_items);\n",
              "  }\n",
              "  if (root.Bokeh !== undefined) {\n",
              "    embed_document(root);\n",
              "  } else {\n",
              "    let attempts = 0;\n",
              "    const timer = setInterval(function(root) {\n",
              "      if (root.Bokeh !== undefined) {\n",
              "        clearInterval(timer);\n",
              "        embed_document(root);\n",
              "      } else {\n",
              "        attempts++;\n",
              "        if (attempts > 100) {\n",
              "          clearInterval(timer);\n",
              "          console.log(\"Bokeh: ERROR: Unable to run BokehJS code because BokehJS library is missing\");\n",
              "        }\n",
              "      }\n",
              "    }, 10, root)\n",
              "  }\n",
              "})(window);"
            ],
            "application/vnd.bokehjs_exec.v0+json": ""
          },
          "metadata": {
            "application/vnd.bokehjs_exec.v0+json": {
              "id": "p2190"
            }
          }
        },
        {
          "output_type": "display_data",
          "data": {
            "text/html": [
              "\n",
              "  <div id=\"eacfccc4-2d44-4803-852f-7caae3d1ad4d\" data-root-id=\"p2231\" style=\"display: contents;\"></div>\n"
            ]
          },
          "metadata": {}
        },
        {
          "output_type": "display_data",
          "data": {
            "application/javascript": [
              "(function(root) {\n",
              "  function embed_document(root) {\n",
              "  const docs_json = {\"e4b682f0-9518-4489-a03e-dffccfe2673a\":{\"version\":\"3.3.2\",\"title\":\"Bokeh Application\",\"roots\":[{\"type\":\"object\",\"name\":\"Figure\",\"id\":\"p2231\",\"attributes\":{\"x_range\":{\"type\":\"object\",\"name\":\"Range1d\",\"id\":\"p2240\",\"attributes\":{\"end\":23}},\"y_range\":{\"type\":\"object\",\"name\":\"Range1d\",\"id\":\"p2241\",\"attributes\":{\"end\":19}},\"x_scale\":{\"type\":\"object\",\"name\":\"LinearScale\",\"id\":\"p2242\"},\"y_scale\":{\"type\":\"object\",\"name\":\"LinearScale\",\"id\":\"p2243\"},\"title\":{\"type\":\"object\",\"name\":\"Title\",\"id\":\"p2238\"},\"renderers\":[{\"type\":\"object\",\"name\":\"GlyphRenderer\",\"id\":\"p2256\",\"attributes\":{\"data_source\":{\"type\":\"object\",\"name\":\"ColumnDataSource\",\"id\":\"p2244\",\"attributes\":{\"selected\":{\"type\":\"object\",\"name\":\"Selection\",\"id\":\"p2245\",\"attributes\":{\"indices\":[],\"line_indices\":[]}},\"selection_policy\":{\"type\":\"object\",\"name\":\"UnionRenderers\",\"id\":\"p2246\"},\"data\":{\"type\":\"map\",\"entries\":[[\"image\",[{\"type\":\"ndarray\",\"array\":{\"type\":\"bytes\",\"data\":\"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\"},\"shape\":[19,23],\"dtype\":\"float32\",\"order\":\"little\"}]]]}}},\"view\":{\"type\":\"object\",\"name\":\"CDSView\",\"id\":\"p2257\",\"attributes\":{\"filter\":{\"type\":\"object\",\"name\":\"AllIndices\",\"id\":\"p2258\"}}},\"glyph\":{\"type\":\"object\",\"name\":\"Image\",\"id\":\"p2247\",\"attributes\":{\"x\":{\"type\":\"value\",\"value\":0},\"y\":{\"type\":\"value\",\"value\":0},\"dw\":{\"type\":\"value\",\"value\":23},\"dh\":{\"type\":\"value\",\"value\":19},\"image\":{\"type\":\"field\",\"field\":\"image\"},\"color_mapper\":{\"type\":\"object\",\"name\":\"LinearColorMapper\",\"id\":\"p2248\",\"attributes\":{\"palette\":[\"#000000\",\"#252525\",\"#525252\",\"#737373\",\"#969696\",\"#bdbdbd\",\"#d9d9d9\",\"#f0f0f0\",\"#ffffff\"]}}}},\"nonselection_glyph\":{\"type\":\"object\",\"name\":\"Image\",\"id\":\"p2250\",\"attributes\":{\"x\":{\"type\":\"value\",\"value\":0},\"y\":{\"type\":\"value\",\"value\":0},\"dw\":{\"type\":\"value\",\"value\":23},\"dh\":{\"type\":\"value\",\"value\":19},\"global_alpha\":{\"type\":\"value\",\"value\":0.1},\"image\":{\"type\":\"field\",\"field\":\"image\"},\"color_mapper\":{\"type\":\"object\",\"name\":\"LinearColorMapper\",\"id\":\"p2251\",\"attributes\":{\"palette\":[\"#000000\",\"#252525\",\"#525252\",\"#737373\",\"#969696\",\"#bdbdbd\",\"#d9d9d9\",\"#f0f0f0\",\"#ffffff\"]}}}},\"muted_glyph\":{\"type\":\"object\",\"name\":\"Image\",\"id\":\"p2253\",\"attributes\":{\"x\":{\"type\":\"value\",\"value\":0},\"y\":{\"type\":\"value\",\"value\":0},\"dw\":{\"type\":\"value\",\"value\":23},\"dh\":{\"type\":\"value\",\"value\":19},\"global_alpha\":{\"type\":\"value\",\"value\":0.2},\"image\":{\"type\":\"field\",\"field\":\"image\"},\"color_mapper\":{\"type\":\"object\",\"name\":\"LinearColorMapper\",\"id\":\"p2254\",\"attributes\":{\"palette\":[\"#000000\",\"#252525\",\"#525252\",\"#737373\",\"#969696\",\"#bdbdbd\",\"#d9d9d9\",\"#f0f0f0\",\"#ffffff\"]}}}}}}],\"toolbar\":{\"type\":\"object\",\"name\":\"Toolbar\",\"id\":\"p2239\"},\"left\":[{\"type\":\"object\",\"name\":\"LinearAxis\",\"id\":\"p2264\",\"attributes\":{\"ticker\":{\"type\":\"object\",\"name\":\"FixedTicker\",\"id\":\"p2268\",\"attributes\":{\"ticks\":{\"type\":\"ndarray\",\"array\":{\"type\":\"bytes\",\"data\":\"AAAAAAAA4D8AAAAAAAD4PwAAAAAAAARAAAAAAAAADEAAAAAAAAASQAAAAAAAABZAAAAAAAAAGkAAAAAAAAAeQAAAAAAAACFAAAAAAAAAI0AAAAAAAAAlQAAAAAAAACdAAAAAAAAAKUAAAAAAAAArQAAAAAAAAC1AAAAAAAAAL0AAAAAAAIAwQAAAAAAAgDFAAAAAAACAMkA=\"},\"shape\":[19],\"dtype\":\"float64\",\"order\":\"little\"},\"minor_ticks\":[]}},\"formatter\":{\"type\":\"object\",\"name\":\"BasicTickFormatter\",\"id\":\"p2266\"},\"axis_label\":\"translation tokens\",\"major_label_overrides\":{\"type\":\"map\",\"entries\":[[0.5,\"_EOS_\"],[1.5,\".\"],[2.5,\"basilica\"],[3.5,\"the\"],[4.5,\"from\"],[5.5,\"metres\"],[6.5,\"200\"],[7.5,\",\"],[8.5,\"moscow\"],[9.5,\"in\"],[10.5,\"located\"],[11.5,\"is\"],[12.5,\"ret\"],[13.5,\"du@@\"],[14.5,\"del\"],[15.5,\"o\"],[16.5,\"tur@@\"],[17.5,\"apartamentos\"],[18.5,\"_BOS_\"]]},\"major_label_policy\":{\"type\":\"object\",\"name\":\"AllLabels\",\"id\":\"p2267\"}}}],\"above\":[{\"type\":\"object\",\"name\":\"LinearAxis\",\"id\":\"p2259\",\"attributes\":{\"ticker\":{\"type\":\"object\",\"name\":\"FixedTicker\",\"id\":\"p2263\",\"attributes\":{\"ticks\":{\"type\":\"ndarray\",\"array\":{\"type\":\"bytes\",\"data\":\"AAAAAAAA4D8AAAAAAAD4PwAAAAAAAARAAAAAAAAADEAAAAAAAAASQAAAAAAAABZAAAAAAAAAGkAAAAAAAAAeQAAAAAAAACFAAAAAAAAAI0AAAAAAAAAlQAAAAAAAACdAAAAAAAAAKUAAAAAAAAArQAAAAAAAAC1AAAAAAAAAL0AAAAAAAIAwQAAAAAAAgDFAAAAAAACAMkAAAAAAAIAzQAAAAAAAgDRAAAAAAACANUAAAAAAAIA2QA==\"},\"shape\":[23],\"dtype\":\"float64\",\"order\":\"little\"},\"minor_ticks\":[]}},\"formatter\":{\"type\":\"object\",\"name\":\"BasicTickFormatter\",\"id\":\"p2261\"},\"axis_label\":\"source tokens\",\"major_label_orientation\":45,\"major_label_overrides\":{\"type\":\"map\",\"entries\":[[0.5,\"_BOS_\"],[1.5,\"\\u0430\\u043f\\u0430\\u0440\\u0442\\u0430\\u043c\\u0435\\u043d\\u0442\\u044b\"],[2.5,\"mo@@\"],[3.5,\"s@@\"],[4.5,\"co@@\"],[5.5,\"w\"],[6.5,\"point\"],[7.5,\"-\"],[8.5,\"loft\"],[9.5,\"red\"],[10.5,\"square\"],[11.5,\"\\u043d\\u0430\\u0445\\u043e\\u0434\\u044f\\u0442\\u0441\\u044f\"],[12.5,\"\\u0432\"],[13.5,\"\\u043c\\u043e\\u0441\\u043a\\u0432\\u0435\"],[14.5,\",\"],[15.5,\"\\u0432\"],[16.5,\"200\"],[17.5,\"\\u043c\\u0435\\u0442\\u0440\\u0430\\u0445\"],[18.5,\"\\u043e\\u0442\"],[19.5,\"\\u0431\\u043e\\u043b\\u044c\\u0448\\u043e\\u0433\\u043e\"],[20.5,\"\\u0442\\u0435\\u0430\\u0442\\u0440\\u0430\"],[21.5,\".\"],[22.5,\"_EOS_\"]]},\"major_label_policy\":{\"type\":\"object\",\"name\":\"AllLabels\",\"id\":\"p2262\"}}}]}}]}};\n",
              "  const render_items = [{\"docid\":\"e4b682f0-9518-4489-a03e-dffccfe2673a\",\"roots\":{\"p2231\":\"eacfccc4-2d44-4803-852f-7caae3d1ad4d\"},\"root_ids\":[\"p2231\"]}];\n",
              "  root.Bokeh.embed.embed_items_notebook(docs_json, render_items);\n",
              "  }\n",
              "  if (root.Bokeh !== undefined) {\n",
              "    embed_document(root);\n",
              "  } else {\n",
              "    let attempts = 0;\n",
              "    const timer = setInterval(function(root) {\n",
              "      if (root.Bokeh !== undefined) {\n",
              "        clearInterval(timer);\n",
              "        embed_document(root);\n",
              "      } else {\n",
              "        attempts++;\n",
              "        if (attempts > 100) {\n",
              "          clearInterval(timer);\n",
              "          console.log(\"Bokeh: ERROR: Unable to run BokehJS code because BokehJS library is missing\");\n",
              "        }\n",
              "      }\n",
              "    }, 10, root)\n",
              "  }\n",
              "})(window);"
            ],
            "application/vnd.bokehjs_exec.v0+json": ""
          },
          "metadata": {
            "application/vnd.bokehjs_exec.v0+json": {
              "id": "p2231"
            }
          }
        }
      ],
      "source": [
        "for i in range(3):\n",
        "    draw_attention(inp[i], trans[i], attention_probs[i])\n",
        "\n",
        "# Does it look fine already? don't forget to save images for anytask!"
      ]
    },
    {
      "cell_type": "markdown",
      "metadata": {
        "id": "yCncfHHOI5Ai"
      },
      "source": [
        "__Note 1:__ If the attention maps are not iterpretable, try starting encoder from zeros (instead of dec_start), forcing model to use attention.\n",
        "\n",
        "__Note 2:__ If you're studying this course as a YSDA student, please submit __attention screenshots__ alongside your notebook."
      ]
    },
    {
      "cell_type": "markdown",
      "source": [
        "![image.png](data:image/png;base64,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)"
      ],
      "metadata": {
        "id": "MvCeT28mDV1Q"
      }
    },
    {
      "cell_type": "markdown",
      "metadata": {
        "id": "pbIIngNVlrtt"
      },
      "source": [
        "## Goind deeper (2++ points each)\n",
        "\n",
        "We want you to find the best model for the task. Use everything you know.\n",
        "\n",
        "* different recurrent units: rnn/gru/lstm; deeper architectures\n",
        "* bidirectional encoder, different attention methods for decoder (additive, dot-product, multi-head)\n",
        "* word dropout, training schedules, anything you can imagine\n",
        "* replace greedy inference with beam search\n",
        "\n",
        "For a better grasp of seq2seq We recommend you to conduct at least one experiment from one of the bullet-points or your alternative ideas. As usual, describe what you tried and what results you obtained in a short report."
      ]
    },
    {
      "cell_type": "markdown",
      "metadata": {
        "collapsed": true,
        "id": "2rzAj_xtlrtt"
      },
      "source": [
        "`[your report/log here or anywhere you please]`"
      ]
    }
  ],
  "metadata": {
    "accelerator": "GPU",
    "colab": {
      "collapsed_sections": [
        "edk_oVg0lrtW"
      ],
      "provenance": []
    },
    "kernelspec": {
      "display_name": "Python 3",
      "language": "python",
      "name": "python3"
    },
    "language_info": {
      "codemirror_mode": {
        "name": "ipython",
        "version": 3
      },
      "file_extension": ".py",
      "mimetype": "text/x-python",
      "name": "python",
      "nbconvert_exporter": "python",
      "pygments_lexer": "ipython3",
      "version": "3.8.3"
    }
  },
  "nbformat": 4,
  "nbformat_minor": 0
}